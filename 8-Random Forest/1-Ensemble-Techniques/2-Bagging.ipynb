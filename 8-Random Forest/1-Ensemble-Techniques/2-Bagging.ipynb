{
 "cells": [
  {
   "cell_type": "markdown",
   "id": "2ec71f93",
   "metadata": {},
   "source": [
    "### 🟦 Bagging (Bootstrap Aggregating)\n",
    "\n",
    "**Think of the process like this:**\n",
    "\n",
    "1. **Start with your dataset**\n",
    "   Say you have 1000 rows of data about houses (features: size, location, number of rooms → target: price).\n",
    "\n",
    "2. **Create random samples**\n",
    "   Bagging makes many new datasets by randomly picking rows from the original dataset (some rows may repeat, some may be left out).\n",
    "\n",
    "3. **Train multiple models**\n",
    "   On each random dataset, train the same type of model — for example, decision trees.\n",
    "\n",
    "   * Tree 1 learns one pattern.\n",
    "   * Tree 2 learns slightly differently because it saw a different dataset.\n",
    "   * Tree 3 learns something else.\n",
    "\n",
    "4. **Combine predictions**\n",
    "   When you want to predict the price of a new house:\n",
    "\n",
    "   * Each tree gives its own prediction.\n",
    "   * Final result = **average of all trees’ predictions**.\n",
    "\n",
    "---\n",
    "\n",
    "### 🔑 In ML terms:\n",
    "\n",
    "* Bagging = **training models in parallel on different random subsets**.\n",
    "* Final prediction = **aggregate (average or vote)** of all models.\n",
    "* Benefit = reduces **variance** (less chance of overfitting).\n",
    "\n",
    "---\n",
    "\n",
    "✅ **Small Example:**\n",
    "Predicting house price for a new home:\n",
    "\n",
    "* Tree 1 → \\$200k\n",
    "* Tree 2 → \\$220k\n",
    "* Tree 3 → \\$210k\n",
    "  **Final Bagging prediction = (200 + 220 + 210) / 3 = \\$210k**"
   ]
  }
 ],
 "metadata": {
  "language_info": {
   "name": "python"
  }
 },
 "nbformat": 4,
 "nbformat_minor": 5
}
