{
 "cells": [
  {
   "cell_type": "markdown",
   "id": "2b809aab",
   "metadata": {},
   "source": [
    "### 🔹 Ridge Regression\n",
    "\n",
    "Use it when:\n",
    "\n",
    "* You have **many features**.\n",
    "* Some features are not very useful, but you don’t want to throw them away.\n",
    "* Ridge **shrinks** their effect (makes their weights smaller) but **keeps all features** in the model.\n",
    "\n",
    "👉 Think of it as: “I’ll use everything, but I’ll calm down the noisy ones.”\n",
    "\n",
    "---\n",
    "\n",
    "### 🔹 Lasso Regression\n",
    "\n",
    "Use it when:\n",
    "\n",
    "* You want the model to be **simpler** and only keep the most important features.\n",
    "* Lasso can actually make some feature weights **zero** → which means those features get removed.\n",
    "\n",
    "👉 Think of it as: “I’ll pick only the features that matter and ignore the rest.”\n",
    "\n",
    "---\n",
    "\n",
    "### 🔹 Elastic Net\n",
    "\n",
    "Use it when:\n",
    "\n",
    "* You want a **balance** between Ridge and Lasso.\n",
    "* Useful if you have **lots of features**, some strongly related to each other, and some useless.\n",
    "* Elastic Net both **shrinks** and **selects** features.\n",
    "\n",
    "👉 Think of it as: “I’ll calm down the noisy ones, but also drop the truly useless ones.”\n",
    "\n",
    "\n",
    "✅ **Quick everyday analogy:**\n",
    "\n",
    "* Ridge = keep all your clothes, but fold them neatly so the closet isn’t messy.\n",
    "* Lasso = throw away the clothes you never wear.\n",
    "* Elastic Net = do both: fold some, throw some."
   ]
  },
  {
   "cell_type": "markdown",
   "id": "ed6c7a50",
   "metadata": {
    "vscode": {
     "languageId": "plaintext"
    }
   },
   "source": [
    "# RidgeCV  \n",
    "## Ridge + CV → finds best shrink strength.\n",
    "\n",
    "# LassoCV \n",
    "## Lasso + CV → finds best shrink strength while possibly dropping useless features.\n",
    "\n",
    "# ElasticNetCV \n",
    "## ElasticNet + CV → finds best shrink + best mix of Ridge/Lasso."
   ]
  },
  {
   "cell_type": "markdown",
   "id": "642198f3",
   "metadata": {
    "vscode": {
     "languageId": "plaintext"
    }
   },
   "source": [
    "# Example with 3 folds and 2 parameter values\n",
    "\n",
    "Candidate params = [0.1, 1.0]\n",
    "\n",
    "For alpha = 0.1\n",
    "\n",
    "Fold 1 → accuracy = 80%\n",
    "\n",
    "Fold 2 → accuracy = 82%\n",
    "\n",
    "Fold 3 → accuracy = 79%\n",
    "\n",
    "Average = 80.3%\n",
    "\n",
    "For alpha = 1.0\n",
    "\n",
    "Fold 1 → accuracy = 85%\n",
    "\n",
    "Fold 2 → accuracy = 83%\n",
    "\n",
    "Fold 3 → accuracy = 84%\n",
    "\n",
    "Average = 84%\n",
    "\n",
    "👉 Cross-validation will select alpha = 1.0 because it had the best average across folds."
   ]
  }
 ],
 "metadata": {
  "language_info": {
   "name": "python"
  }
 },
 "nbformat": 4,
 "nbformat_minor": 5
}
