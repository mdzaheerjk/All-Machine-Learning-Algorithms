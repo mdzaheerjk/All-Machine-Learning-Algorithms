{
 "cells": [
  {
   "cell_type": "markdown",
   "id": "91efeee9",
   "metadata": {},
   "source": [
    "# You use **polynomial regression** when:\n",
    "\n",
    "1. **The relationship between inputs and output isn’t a straight line.**\n",
    "\n",
    "   * Example: As you study more hours, your exam score first goes up, but after a point, too much study makes you tired and your score goes down. That’s a curve, not a line.\n",
    "\n",
    "2. **The data looks like a curve when you plot it.**\n",
    "\n",
    "   * Example shapes: U-shaped, upside-down U, or a wave-like curve.\n",
    "\n",
    "3. **A straight-line model (simple or multiple linear regression) isn’t good enough.**\n",
    "\n",
    "   * Linear regression would miss the bends, while polynomial regression can “bend the line” to follow the curve.\n",
    "\n",
    "\n",
    "✅ **Good examples where it makes sense**:\n",
    "\n",
    "* Predicting plant growth over time (grows fast, slows down, then stops).\n",
    "* Predicting car speed vs. fuel efficiency (too slow → waste fuel, too fast → waste fuel, sweet spot in the middle).\n",
    "* Predicting learning rate vs. performance (improves, peaks, then declines).\n",
    "\n",
    "❌ **Not good to use** if:\n",
    "\n",
    "* The curve is too messy (you might need other models).\n",
    "* You make the polynomial degree too high → the curve wiggles too much and overfits the data."
   ]
  },
  {
   "cell_type": "markdown",
   "id": "aea191db",
   "metadata": {
    "vscode": {
     "languageId": "plaintext"
    }
   },
   "source": [
    "# Think about it\n",
    "\n",
    "### **1. One Independent Feature ($x$)**\n",
    "\n",
    "**Degree 1 (Linear Regression):**\n",
    "\n",
    "$$\n",
    "y = \\beta_0 + \\beta_1 x\n",
    "$$\n",
    "\n",
    "**Degree 2 (Quadratic / Polynomial Regression):**\n",
    "\n",
    "$$\n",
    "y = \\beta_0 + \\beta_1 x + \\beta_2 x^2\n",
    "$$\n",
    "\n",
    "* $x$ = independent variable\n",
    "* $y$ = dependent variable\n",
    "* $\\beta_0, \\beta_1, \\beta_2$ = coefficients\n",
    "\n",
    "---\n",
    "\n",
    "### **2. Two Independent Features ($x_1, x_2$)**\n",
    "\n",
    "**Degree 1 (Linear Regression):**\n",
    "\n",
    "$$\n",
    "y = \\beta_0 + \\beta_1 x_1 + \\beta_2 x_2\n",
    "$$\n",
    "\n",
    "**Degree 2 (Polynomial Regression):**\n",
    "\n",
    "$$\n",
    "y = \\beta_0 + \\beta_1 x_1 + \\beta_2 x_2 + \\beta_3 x_1^2 + \\beta_4 x_2^2 + \\beta_5 x_1 x_2\n",
    "$$\n",
    "\n",
    "* Includes **squared terms** for each feature ($x_1^2, x_2^2$)\n",
    "* Includes **interaction term** ($x_1 x_2$)\n",
    "\n",
    "---\n",
    "\n",
    "✅ **Summary Table:**\n",
    "\n",
    "| Features | Degree | Equation                                                                                    |\n",
    "| -------- | ------ | ------------------------------------------------------------------------------------------- |\n",
    "| 1        | 1      | $y = \\beta_0 + \\beta_1 x$                                                                   |\n",
    "| 1        | 2      | $y = \\beta_0 + \\beta_1 x + \\beta_2 x^2$                                                     |\n",
    "| 2        | 1      | $y = \\beta_0 + \\beta_1 x_1 + \\beta_2 x_2$                                                   |\n",
    "| 2        | 2      | $y = \\beta_0 + \\beta_1 x_1 + \\beta_2 x_2 + \\beta_3 x_1^2 + \\beta_4 x_2^2 + \\beta_5 x_1 x_2$ |"
   ]
  },
  {
   "cell_type": "markdown",
   "id": "9241cdcb",
   "metadata": {
    "vscode": {
     "languageId": "plaintext"
    }
   },
   "source": [
    "# ✅ Intuition:\n",
    "\n",
    "Low degree → simple → underfits if data is curved.\n",
    "\n",
    "Higher degree → more curvy → fits better → risk of overfitting.\n",
    "\n",
    "The curve adapts to the shape of your data as you increase the polynomial degree."
   ]
  }
 ],
 "metadata": {
  "language_info": {
   "name": "python"
  }
 },
 "nbformat": 4,
 "nbformat_minor": 5
}
