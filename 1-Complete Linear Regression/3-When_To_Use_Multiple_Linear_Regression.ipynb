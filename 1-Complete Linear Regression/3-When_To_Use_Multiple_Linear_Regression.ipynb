{
 "cells": [
  {
   "cell_type": "markdown",
   "id": "9c946db5",
   "metadata": {},
   "source": [
    "# You use **multiple linear regression** when:\n",
    "\n",
    "1. **You want to see how several things together affect one outcome.**\n",
    "\n",
    "   * Example: Exam score might depend on **hours studied**, **hours slept**, and **number of classes attended**.\n",
    "\n",
    "2. **There’s one main result you’re interested in (the dependent variable).**\n",
    "\n",
    "   * Example: *exam score, house price, weight, sales revenue*.\n",
    "\n",
    "3. **There are two or more possible influences (independent variables).**\n",
    "\n",
    "   * Example: *house price* depends on **size**, **location**, and **age of the house**.\n",
    "\n",
    "4. **The relationship is roughly straight-line for each factor.**\n",
    "\n",
    "   * Meaning, if you keep all other factors steady, changing one will still have a linear effect.\n",
    "\n",
    "\n",
    "✅ **Good examples where it makes sense**:\n",
    "\n",
    "* Predicting salary from **years of experience**, **education level**, and **skills**.\n",
    "* Predicting blood pressure from **age**, **weight**, and **exercise level**.\n",
    "* Predicting sales from **advertising spend**, **price of product**, and **season**.\n",
    "\n",
    "❌ **Not good to use** if:\n",
    "\n",
    "* The relationships are very curved/nonlinear.\n",
    "* The factors affect each other in complicated ways.\n",
    "* You don’t have enough data compared to the number of factors."
   ]
  }
 ],
 "metadata": {
  "language_info": {
   "name": "python"
  }
 },
 "nbformat": 4,
 "nbformat_minor": 5
}
