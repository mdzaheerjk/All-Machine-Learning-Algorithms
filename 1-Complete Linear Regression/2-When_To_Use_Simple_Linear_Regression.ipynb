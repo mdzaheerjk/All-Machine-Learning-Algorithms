{
 "cells": [
  {
   "cell_type": "markdown",
   "id": "ae2357e8",
   "metadata": {},
   "source": [
    "# You use **simple linear regression** when:\n",
    "\n",
    "1. **You want to see how one thing affects another.**\n",
    "\n",
    "   * Example: Does the number of hours you study affect your exam score?\n",
    "\n",
    "2. **There are only two variables involved.**\n",
    "\n",
    "   * One is the cause (independent variable → hours studied).\n",
    "   * One is the effect (dependent variable → exam score).\n",
    "\n",
    "3. **You expect a straight-line relationship.**\n",
    "\n",
    "   * If you put the data on a graph, the points roughly form a line (not a curve).\n",
    "\n",
    "\n",
    "✅ **Good examples where it makes sense**:\n",
    "\n",
    "* Predicting height from age (for kids).\n",
    "* Predicting car fuel use from distance traveled.\n",
    "* Predicting house price from its size.\n",
    "\n",
    "❌ **Not good to use** if:\n",
    "\n",
    "* The relationship is curved or complicated.\n",
    "* Many factors affect the outcome (then you’d use multiple regression instead)."
   ]
  }
 ],
 "metadata": {
  "language_info": {
   "name": "python"
  }
 },
 "nbformat": 4,
 "nbformat_minor": 5
}
