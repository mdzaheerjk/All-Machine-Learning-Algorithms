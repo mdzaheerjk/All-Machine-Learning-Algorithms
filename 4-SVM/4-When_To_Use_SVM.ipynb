{
 "cells": [
  {
   "cell_type": "markdown",
   "id": "9d0c0587",
   "metadata": {},
   "source": [
    "# Support Vector Machines\n",
    "\n",
    "### **SVC (Support Vector Classification)**\n",
    "\n",
    "* **Task type**: *Classification* → output is a **class label**.\n",
    "* **Goal**: Find a boundary (hyperplane) that best separates the different classes.\n",
    "* **Output**: Discrete categories (e.g., “cat” vs. “dog”).\n",
    "* **Loss function**: Uses **hinge loss** to maximize the margin between classes.\n",
    "\n",
    "📌 Example:\n",
    "\n",
    "* Input: height and weight of people.\n",
    "* Output: predict **male** or **female**.\n",
    "* The SVC draws a line (in 2D) or hyperplane (in higher dimensions) to separate the two groups.\n",
    "\n",
    "---\n",
    "\n",
    "### **SVR (Support Vector Regression)**\n",
    "\n",
    "* **Task type**: *Regression* → output is a **continuous value**.\n",
    "* **Goal**: Fit a function that predicts numbers, while ignoring small errors (within a tolerance “ε”).\n",
    "* **Output**: Continuous values (e.g., house price = 210k).\n",
    "* **Loss function**: Uses **epsilon-insensitive loss** (errors smaller than ε don’t matter).\n",
    "\n",
    "📌 Example:\n",
    "\n",
    "* Input: size of a house.\n",
    "* Output: predict **price** of the house.\n",
    "* SVR doesn’t just draw a line — it tries to keep most predictions within a “tube” around the true values.\n",
    "\n",
    "---\n",
    "\n",
    "👉 **Rule of thumb in ML terms**:\n",
    "\n",
    "* If your **target variable** is categorical → use **SVC**.\n",
    "* If your **target variable** is numeric/continuous → use **SVR**."
   ]
  }
 ],
 "metadata": {
  "language_info": {
   "name": "python"
  }
 },
 "nbformat": 4,
 "nbformat_minor": 5
}
