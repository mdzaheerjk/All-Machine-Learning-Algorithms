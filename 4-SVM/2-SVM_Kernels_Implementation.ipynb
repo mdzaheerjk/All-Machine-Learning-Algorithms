{
 "cells": [
  {
   "cell_type": "markdown",
   "metadata": {},
   "source": [
    "### SVM Kernels Indepth Intuition And Practical Explanation"
   ]
  },
  {
   "cell_type": "code",
   "execution_count": 13,
   "metadata": {},
   "outputs": [],
   "source": [
    "import numpy as np\n",
    "import matplotlib.pyplot as plt\n",
    "\n",
    "x = np.linspace(-5.0, 5.0, 100)\n",
    "y = np.sqrt(10**2 - x**2)\n",
    "y=np.hstack([y,-y])\n",
    "x=np.hstack([x,x])"
   ]
  },
  {
   "cell_type": "code",
   "execution_count": 14,
   "metadata": {},
   "outputs": [
    {
     "data": {
      "text/plain": [
       "array([ 8.66025404,  8.71779204,  8.77378994,  8.82827705,  8.88128118,\n",
       "        8.93282873,  8.98294476,  9.03165312,  9.07897646,  9.12493632,\n",
       "        9.16955321,  9.21284664,  9.25483518,  9.29553652,  9.3349675 ,\n",
       "        9.37314414,  9.41008171,  9.44579475,  9.4802971 ,  9.51360192,\n",
       "        9.54572176,  9.57666854,  9.60645359,  9.63508769,  9.66258107,\n",
       "        9.68894344,  9.714184  ,  9.73831149,  9.76133416,  9.7832598 ,\n",
       "        9.80409577,  9.82384901,  9.84252604,  9.86013297,  9.87667553,\n",
       "        9.89215905,  9.90658851,  9.91996849,  9.93230325,  9.94359667,\n",
       "        9.9538523 ,  9.96307334,  9.97126266,  9.9784228 ,  9.98455598,\n",
       "        9.98966408,  9.99374868,  9.99681104,  9.99885209,  9.99987246,\n",
       "        9.99987246,  9.99885209,  9.99681104,  9.99374868,  9.98966408,\n",
       "        9.98455598,  9.9784228 ,  9.97126266,  9.96307334,  9.9538523 ,\n",
       "        9.94359667,  9.93230325,  9.91996849,  9.90658851,  9.89215905,\n",
       "        9.87667553,  9.86013297,  9.84252604,  9.82384901,  9.80409577,\n",
       "        9.7832598 ,  9.76133416,  9.73831149,  9.714184  ,  9.68894344,\n",
       "        9.66258107,  9.63508769,  9.60645359,  9.57666854,  9.54572176,\n",
       "        9.51360192,  9.4802971 ,  9.44579475,  9.41008171,  9.37314414,\n",
       "        9.3349675 ,  9.29553652,  9.25483518,  9.21284664,  9.16955321,\n",
       "        9.12493632,  9.07897646,  9.03165312,  8.98294476,  8.93282873,\n",
       "        8.88128118,  8.82827705,  8.77378994,  8.71779204,  8.66025404,\n",
       "       -8.66025404, -8.71779204, -8.77378994, -8.82827705, -8.88128118,\n",
       "       -8.93282873, -8.98294476, -9.03165312, -9.07897646, -9.12493632,\n",
       "       -9.16955321, -9.21284664, -9.25483518, -9.29553652, -9.3349675 ,\n",
       "       -9.37314414, -9.41008171, -9.44579475, -9.4802971 , -9.51360192,\n",
       "       -9.54572176, -9.57666854, -9.60645359, -9.63508769, -9.66258107,\n",
       "       -9.68894344, -9.714184  , -9.73831149, -9.76133416, -9.7832598 ,\n",
       "       -9.80409577, -9.82384901, -9.84252604, -9.86013297, -9.87667553,\n",
       "       -9.89215905, -9.90658851, -9.91996849, -9.93230325, -9.94359667,\n",
       "       -9.9538523 , -9.96307334, -9.97126266, -9.9784228 , -9.98455598,\n",
       "       -9.98966408, -9.99374868, -9.99681104, -9.99885209, -9.99987246,\n",
       "       -9.99987246, -9.99885209, -9.99681104, -9.99374868, -9.98966408,\n",
       "       -9.98455598, -9.9784228 , -9.97126266, -9.96307334, -9.9538523 ,\n",
       "       -9.94359667, -9.93230325, -9.91996849, -9.90658851, -9.89215905,\n",
       "       -9.87667553, -9.86013297, -9.84252604, -9.82384901, -9.80409577,\n",
       "       -9.7832598 , -9.76133416, -9.73831149, -9.714184  , -9.68894344,\n",
       "       -9.66258107, -9.63508769, -9.60645359, -9.57666854, -9.54572176,\n",
       "       -9.51360192, -9.4802971 , -9.44579475, -9.41008171, -9.37314414,\n",
       "       -9.3349675 , -9.29553652, -9.25483518, -9.21284664, -9.16955321,\n",
       "       -9.12493632, -9.07897646, -9.03165312, -8.98294476, -8.93282873,\n",
       "       -8.88128118, -8.82827705, -8.77378994, -8.71779204, -8.66025404])"
      ]
     },
     "execution_count": 14,
     "metadata": {},
     "output_type": "execute_result"
    }
   ],
   "source": [
    "y"
   ]
  },
  {
   "cell_type": "code",
   "execution_count": 15,
   "metadata": {},
   "outputs": [],
   "source": [
    "x1 = np.linspace(-5.0, 5.0, 100)\n",
    "y1 = np.sqrt(5**2 - x1**2)\n",
    "y1=np.hstack([y1,-y1])\n",
    "x1=np.hstack([x1,x1])"
   ]
  },
  {
   "cell_type": "code",
   "execution_count": 16,
   "metadata": {},
   "outputs": [
    {
     "data": {
      "text/plain": [
       "<matplotlib.collections.PathCollection at 0x124ac65e770>"
      ]
     },
     "execution_count": 16,
     "metadata": {},
     "output_type": "execute_result"
    },
    {
     "data": {
      "image/png": "[encoded data removed]",
      "text/plain": [
       "<Figure size 640x480 with 1 Axes>"
      ]
     },
     "metadata": {},
     "output_type": "display_data"
    }
   ],
   "source": [
    "plt.scatter(y,x)\n",
    "plt.scatter(y1,x1)"
   ]
  },
  {
   "cell_type": "code",
   "execution_count": 17,
   "metadata": {},
   "outputs": [
    {
     "data": {
      "text/plain": [
       "array([[ 8.66025404, -5.        ],\n",
       "       [ 8.71779204, -4.8989899 ],\n",
       "       [ 8.77378994, -4.7979798 ],\n",
       "       [ 8.82827705, -4.6969697 ],\n",
       "       [ 8.88128118, -4.5959596 ],\n",
       "       [ 8.93282873, -4.49494949],\n",
       "       [ 8.98294476, -4.39393939],\n",
       "       [ 9.03165312, -4.29292929],\n",
       "       [ 9.07897646, -4.19191919],\n",
       "       [ 9.12493632, -4.09090909],\n",
       "       [ 9.16955321, -3.98989899],\n",
       "       [ 9.21284664, -3.88888889],\n",
       "       [ 9.25483518, -3.78787879],\n",
       "       [ 9.29553652, -3.68686869],\n",
       "       [ 9.3349675 , -3.58585859],\n",
       "       [ 9.37314414, -3.48484848],\n",
       "       [ 9.41008171, -3.38383838],\n",
       "       [ 9.44579475, -3.28282828],\n",
       "       [ 9.4802971 , -3.18181818],\n",
       "       [ 9.51360192, -3.08080808],\n",
       "       [ 9.54572176, -2.97979798],\n",
       "       [ 9.57666854, -2.87878788],\n",
       "       [ 9.60645359, -2.77777778],\n",
       "       [ 9.63508769, -2.67676768],\n",
       "       [ 9.66258107, -2.57575758],\n",
       "       [ 9.68894344, -2.47474747],\n",
       "       [ 9.714184  , -2.37373737],\n",
       "       [ 9.73831149, -2.27272727],\n",
       "       [ 9.76133416, -2.17171717],\n",
       "       [ 9.7832598 , -2.07070707],\n",
       "       [ 9.80409577, -1.96969697],\n",
       "       [ 9.82384901, -1.86868687],\n",
       "       [ 9.84252604, -1.76767677],\n",
       "       [ 9.86013297, -1.66666667],\n",
       "       [ 9.87667553, -1.56565657],\n",
       "       [ 9.89215905, -1.46464646],\n",
       "       [ 9.90658851, -1.36363636],\n",
       "       [ 9.91996849, -1.26262626],\n",
       "       [ 9.93230325, -1.16161616],\n",
       "       [ 9.94359667, -1.06060606],\n",
       "       [ 9.9538523 , -0.95959596],\n",
       "       [ 9.96307334, -0.85858586],\n",
       "       [ 9.97126266, -0.75757576],\n",
       "       [ 9.9784228 , -0.65656566],\n",
       "       [ 9.98455598, -0.55555556],\n",
       "       [ 9.98966408, -0.45454545],\n",
       "       [ 9.99374868, -0.35353535],\n",
       "       [ 9.99681104, -0.25252525],\n",
       "       [ 9.99885209, -0.15151515],\n",
       "       [ 9.99987246, -0.05050505],\n",
       "       [ 9.99987246,  0.05050505],\n",
       "       [ 9.99885209,  0.15151515],\n",
       "       [ 9.99681104,  0.25252525],\n",
       "       [ 9.99374868,  0.35353535],\n",
       "       [ 9.98966408,  0.45454545],\n",
       "       [ 9.98455598,  0.55555556],\n",
       "       [ 9.9784228 ,  0.65656566],\n",
       "       [ 9.97126266,  0.75757576],\n",
       "       [ 9.96307334,  0.85858586],\n",
       "       [ 9.9538523 ,  0.95959596],\n",
       "       [ 9.94359667,  1.06060606],\n",
       "       [ 9.93230325,  1.16161616],\n",
       "       [ 9.91996849,  1.26262626],\n",
       "       [ 9.90658851,  1.36363636],\n",
       "       [ 9.89215905,  1.46464646],\n",
       "       [ 9.87667553,  1.56565657],\n",
       "       [ 9.86013297,  1.66666667],\n",
       "       [ 9.84252604,  1.76767677],\n",
       "       [ 9.82384901,  1.86868687],\n",
       "       [ 9.80409577,  1.96969697],\n",
       "       [ 9.7832598 ,  2.07070707],\n",
       "       [ 9.76133416,  2.17171717],\n",
       "       [ 9.73831149,  2.27272727],\n",
       "       [ 9.714184  ,  2.37373737],\n",
       "       [ 9.68894344,  2.47474747],\n",
       "       [ 9.66258107,  2.57575758],\n",
       "       [ 9.63508769,  2.67676768],\n",
       "       [ 9.60645359,  2.77777778],\n",
       "       [ 9.57666854,  2.87878788],\n",
       "       [ 9.54572176,  2.97979798],\n",
       "       [ 9.51360192,  3.08080808],\n",
       "       [ 9.4802971 ,  3.18181818],\n",
       "       [ 9.44579475,  3.28282828],\n",
       "       [ 9.41008171,  3.38383838],\n",
       "       [ 9.37314414,  3.48484848],\n",
       "       [ 9.3349675 ,  3.58585859],\n",
       "       [ 9.29553652,  3.68686869],\n",
       "       [ 9.25483518,  3.78787879],\n",
       "       [ 9.21284664,  3.88888889],\n",
       "       [ 9.16955321,  3.98989899],\n",
       "       [ 9.12493632,  4.09090909],\n",
       "       [ 9.07897646,  4.19191919],\n",
       "       [ 9.03165312,  4.29292929],\n",
       "       [ 8.98294476,  4.39393939],\n",
       "       [ 8.93282873,  4.49494949],\n",
       "       [ 8.88128118,  4.5959596 ],\n",
       "       [ 8.82827705,  4.6969697 ],\n",
       "       [ 8.77378994,  4.7979798 ],\n",
       "       [ 8.71779204,  4.8989899 ],\n",
       "       [ 8.66025404,  5.        ],\n",
       "       [-8.66025404, -5.        ],\n",
       "       [-8.71779204, -4.8989899 ],\n",
       "       [-8.77378994, -4.7979798 ],\n",
       "       [-8.82827705, -4.6969697 ],\n",
       "       [-8.88128118, -4.5959596 ],\n",
       "       [-8.93282873, -4.49494949],\n",
       "       [-8.98294476, -4.39393939],\n",
       "       [-9.03165312, -4.29292929],\n",
       "       [-9.07897646, -4.19191919],\n",
       "       [-9.12493632, -4.09090909],\n",
       "       [-9.16955321, -3.98989899],\n",
       "       [-9.21284664, -3.88888889],\n",
       "       [-9.25483518, -3.78787879],\n",
       "       [-9.29553652, -3.68686869],\n",
       "       [-9.3349675 , -3.58585859],\n",
       "       [-9.37314414, -3.48484848],\n",
       "       [-9.41008171, -3.38383838],\n",
       "       [-9.44579475, -3.28282828],\n",
       "       [-9.4802971 , -3.18181818],\n",
       "       [-9.51360192, -3.08080808],\n",
       "       [-9.54572176, -2.97979798],\n",
       "       [-9.57666854, -2.87878788],\n",
       "       [-9.60645359, -2.77777778],\n",
       "       [-9.63508769, -2.67676768],\n",
       "       [-9.66258107, -2.57575758],\n",
       "       [-9.68894344, -2.47474747],\n",
       "       [-9.714184  , -2.37373737],\n",
       "       [-9.73831149, -2.27272727],\n",
       "       [-9.76133416, -2.17171717],\n",
       "       [-9.7832598 , -2.07070707],\n",
       "       [-9.80409577, -1.96969697],\n",
       "       [-9.82384901, -1.86868687],\n",
       "       [-9.84252604, -1.76767677],\n",
       "       [-9.86013297, -1.66666667],\n",
       "       [-9.87667553, -1.56565657],\n",
       "       [-9.89215905, -1.46464646],\n",
       "       [-9.90658851, -1.36363636],\n",
       "       [-9.91996849, -1.26262626],\n",
       "       [-9.93230325, -1.16161616],\n",
       "       [-9.94359667, -1.06060606],\n",
       "       [-9.9538523 , -0.95959596],\n",
       "       [-9.96307334, -0.85858586],\n",
       "       [-9.97126266, -0.75757576],\n",
       "       [-9.9784228 , -0.65656566],\n",
       "       [-9.98455598, -0.55555556],\n",
       "       [-9.98966408, -0.45454545],\n",
       "       [-9.99374868, -0.35353535],\n",
       "       [-9.99681104, -0.25252525],\n",
       "       [-9.99885209, -0.15151515],\n",
       "       [-9.99987246, -0.05050505],\n",
       "       [-9.99987246,  0.05050505],\n",
       "       [-9.99885209,  0.15151515],\n",
       "       [-9.99681104,  0.25252525],\n",
       "       [-9.99374868,  0.35353535],\n",
       "       [-9.98966408,  0.45454545],\n",
       "       [-9.98455598,  0.55555556],\n",
       "       [-9.9784228 ,  0.65656566],\n",
       "       [-9.97126266,  0.75757576],\n",
       "       [-9.96307334,  0.85858586],\n",
       "       [-9.9538523 ,  0.95959596],\n",
       "       [-9.94359667,  1.06060606],\n",
       "       [-9.93230325,  1.16161616],\n",
       "       [-9.91996849,  1.26262626],\n",
       "       [-9.90658851,  1.36363636],\n",
       "       [-9.89215905,  1.46464646],\n",
       "       [-9.87667553,  1.56565657],\n",
       "       [-9.86013297,  1.66666667],\n",
       "       [-9.84252604,  1.76767677],\n",
       "       [-9.82384901,  1.86868687],\n",
       "       [-9.80409577,  1.96969697],\n",
       "       [-9.7832598 ,  2.07070707],\n",
       "       [-9.76133416,  2.17171717],\n",
       "       [-9.73831149,  2.27272727],\n",
       "       [-9.714184  ,  2.37373737],\n",
       "       [-9.68894344,  2.47474747],\n",
       "       [-9.66258107,  2.57575758],\n",
       "       [-9.63508769,  2.67676768],\n",
       "       [-9.60645359,  2.77777778],\n",
       "       [-9.57666854,  2.87878788],\n",
       "       [-9.54572176,  2.97979798],\n",
       "       [-9.51360192,  3.08080808],\n",
       "       [-9.4802971 ,  3.18181818],\n",
       "       [-9.44579475,  3.28282828],\n",
       "       [-9.41008171,  3.38383838],\n",
       "       [-9.37314414,  3.48484848],\n",
       "       [-9.3349675 ,  3.58585859],\n",
       "       [-9.29553652,  3.68686869],\n",
       "       [-9.25483518,  3.78787879],\n",
       "       [-9.21284664,  3.88888889],\n",
       "       [-9.16955321,  3.98989899],\n",
       "       [-9.12493632,  4.09090909],\n",
       "       [-9.07897646,  4.19191919],\n",
       "       [-9.03165312,  4.29292929],\n",
       "       [-8.98294476,  4.39393939],\n",
       "       [-8.93282873,  4.49494949],\n",
       "       [-8.88128118,  4.5959596 ],\n",
       "       [-8.82827705,  4.6969697 ],\n",
       "       [-8.77378994,  4.7979798 ],\n",
       "       [-8.71779204,  4.8989899 ],\n",
       "       [-8.66025404,  5.        ]])"
      ]
     },
     "execution_count": 17,
     "metadata": {},
     "output_type": "execute_result"
    }
   ],
   "source": [
    "np.vstack([y,x]).T"
   ]
  },
  {
   "cell_type": "code",
   "execution_count": 18,
   "metadata": {},
   "outputs": [
    {
     "data": {
      "application/vnd.microsoft.datawrangler.viewer.v0+json": {
       "columns": [
        {
         "name": "index",
         "rawType": "int64",
         "type": "integer"
        },
        {
         "name": "X1",
         "rawType": "float64",
         "type": "float"
        },
        {
         "name": "X2",
         "rawType": "float64",
         "type": "float"
        },
        {
         "name": "Y",
         "rawType": "int64",
         "type": "integer"
        }
       ],
       "ref": "0f8c8ec7-616b-4dbb-8633-bc062e530f53",
       "rows": [
        [
         "0",
         "8.660254037844387",
         "-5.0",
         "0"
        ],
        [
         "1",
         "8.71779203523432",
         "-4.898989898989899",
         "0"
        ],
        [
         "2",
         "8.773789936975795",
         "-4.797979797979798",
         "0"
        ],
        [
         "3",
         "8.82827704967104",
         "-4.696969696969697",
         "0"
        ],
        [
         "4",
         "8.88128117966698",
         "-4.595959595959596",
         "0"
        ]
       ],
       "shape": {
        "columns": 3,
        "rows": 5
       }
      },
      "text/html": [
       "<div>\n",
       "<style scoped>\n",
       "    .dataframe tbody tr th:only-of-type {\n",
       "        vertical-align: middle;\n",
       "    }\n",
       "\n",
       "    .dataframe tbody tr th {\n",
       "        vertical-align: top;\n",
       "    }\n",
       "\n",
       "    .dataframe thead th {\n",
       "        text-align: right;\n",
       "    }\n",
       "</style>\n",
       "<table border=\"1\" class=\"dataframe\">\n",
       "  <thead>\n",
       "    <tr style=\"text-align: right;\">\n",
       "      <th></th>\n",
       "      <th>X1</th>\n",
       "      <th>X2</th>\n",
       "      <th>Y</th>\n",
       "    </tr>\n",
       "  </thead>\n",
       "  <tbody>\n",
       "    <tr>\n",
       "      <th>0</th>\n",
       "      <td>8.660254</td>\n",
       "      <td>-5.00000</td>\n",
       "      <td>0</td>\n",
       "    </tr>\n",
       "    <tr>\n",
       "      <th>1</th>\n",
       "      <td>8.717792</td>\n",
       "      <td>-4.89899</td>\n",
       "      <td>0</td>\n",
       "    </tr>\n",
       "    <tr>\n",
       "      <th>2</th>\n",
       "      <td>8.773790</td>\n",
       "      <td>-4.79798</td>\n",
       "      <td>0</td>\n",
       "    </tr>\n",
       "    <tr>\n",
       "      <th>3</th>\n",
       "      <td>8.828277</td>\n",
       "      <td>-4.69697</td>\n",
       "      <td>0</td>\n",
       "    </tr>\n",
       "    <tr>\n",
       "      <th>4</th>\n",
       "      <td>8.881281</td>\n",
       "      <td>-4.59596</td>\n",
       "      <td>0</td>\n",
       "    </tr>\n",
       "  </tbody>\n",
       "</table>\n",
       "</div>"
      ],
      "text/plain": [
       "         X1       X2  Y\n",
       "0  8.660254 -5.00000  0\n",
       "1  8.717792 -4.89899  0\n",
       "2  8.773790 -4.79798  0\n",
       "3  8.828277 -4.69697  0\n",
       "4  8.881281 -4.59596  0"
      ]
     },
     "execution_count": 18,
     "metadata": {},
     "output_type": "execute_result"
    }
   ],
   "source": [
    "import pandas as pd\n",
    "df1 =pd.DataFrame(np.vstack([y,x]).T,columns=['X1','X2'])\n",
    "df1['Y']=0\n",
    "df2 =pd.DataFrame(np.vstack([y1,x1]).T,columns=['X1','X2'])\n",
    "df2['Y']=1\n",
    "df = pd.concat([df1, df2], ignore_index=True)\n",
    "df.head(5)"
   ]
  },
  {
   "cell_type": "code",
   "execution_count": 19,
   "metadata": {},
   "outputs": [
    {
     "data": {
      "application/vnd.microsoft.datawrangler.viewer.v0+json": {
       "columns": [
        {
         "name": "index",
         "rawType": "int64",
         "type": "integer"
        },
        {
         "name": "X1",
         "rawType": "float64",
         "type": "float"
        },
        {
         "name": "X2",
         "rawType": "float64",
         "type": "float"
        },
        {
         "name": "Y",
         "rawType": "int64",
         "type": "integer"
        }
       ],
       "ref": "8c6794f8-7719-4508-bcac-13a3519ac423",
       "rows": [
        [
         "395",
         "-1.9690493625876713",
         "4.595959595959595",
         "1"
        ],
        [
         "396",
         "-1.714198257421933",
         "4.696969696969697",
         "1"
        ],
        [
         "397",
         "-1.4069079067862758",
         "4.797979797979798",
         "1"
        ],
        [
         "398",
         "-0.9999489834961247",
         "4.8989898989899",
         "1"
        ],
        [
         "399",
         "-0.0",
         "5.0",
         "1"
        ]
       ],
       "shape": {
        "columns": 3,
        "rows": 5
       }
      },
      "text/html": [
       "<div>\n",
       "<style scoped>\n",
       "    .dataframe tbody tr th:only-of-type {\n",
       "        vertical-align: middle;\n",
       "    }\n",
       "\n",
       "    .dataframe tbody tr th {\n",
       "        vertical-align: top;\n",
       "    }\n",
       "\n",
       "    .dataframe thead th {\n",
       "        text-align: right;\n",
       "    }\n",
       "</style>\n",
       "<table border=\"1\" class=\"dataframe\">\n",
       "  <thead>\n",
       "    <tr style=\"text-align: right;\">\n",
       "      <th></th>\n",
       "      <th>X1</th>\n",
       "      <th>X2</th>\n",
       "      <th>Y</th>\n",
       "    </tr>\n",
       "  </thead>\n",
       "  <tbody>\n",
       "    <tr>\n",
       "      <th>395</th>\n",
       "      <td>-1.969049</td>\n",
       "      <td>4.59596</td>\n",
       "      <td>1</td>\n",
       "    </tr>\n",
       "    <tr>\n",
       "      <th>396</th>\n",
       "      <td>-1.714198</td>\n",
       "      <td>4.69697</td>\n",
       "      <td>1</td>\n",
       "    </tr>\n",
       "    <tr>\n",
       "      <th>397</th>\n",
       "      <td>-1.406908</td>\n",
       "      <td>4.79798</td>\n",
       "      <td>1</td>\n",
       "    </tr>\n",
       "    <tr>\n",
       "      <th>398</th>\n",
       "      <td>-0.999949</td>\n",
       "      <td>4.89899</td>\n",
       "      <td>1</td>\n",
       "    </tr>\n",
       "    <tr>\n",
       "      <th>399</th>\n",
       "      <td>-0.000000</td>\n",
       "      <td>5.00000</td>\n",
       "      <td>1</td>\n",
       "    </tr>\n",
       "  </tbody>\n",
       "</table>\n",
       "</div>"
      ],
      "text/plain": [
       "           X1       X2  Y\n",
       "395 -1.969049  4.59596  1\n",
       "396 -1.714198  4.69697  1\n",
       "397 -1.406908  4.79798  1\n",
       "398 -0.999949  4.89899  1\n",
       "399 -0.000000  5.00000  1"
      ]
     },
     "execution_count": 19,
     "metadata": {},
     "output_type": "execute_result"
    }
   ],
   "source": [
    "df.tail()"
   ]
  },
  {
   "cell_type": "code",
   "execution_count": 20,
   "metadata": {},
   "outputs": [],
   "source": [
    "### Independent and Dependent features\n",
    "X = df.iloc[:, :2]  \n",
    "y = df.Y"
   ]
  },
  {
   "cell_type": "code",
   "execution_count": 21,
   "metadata": {},
   "outputs": [
    {
     "data": {
      "application/vnd.microsoft.datawrangler.viewer.v0+json": {
       "columns": [
        {
         "name": "index",
         "rawType": "int64",
         "type": "integer"
        },
        {
         "name": "Y",
         "rawType": "int64",
         "type": "integer"
        }
       ],
       "ref": "8ef7c5bb-85ee-46b3-972e-6f1d90210899",
       "rows": [
        [
         "0",
         "0"
        ],
        [
         "1",
         "0"
        ],
        [
         "2",
         "0"
        ],
        [
         "3",
         "0"
        ],
        [
         "4",
         "0"
        ],
        [
         "5",
         "0"
        ],
        [
         "6",
         "0"
        ],
        [
         "7",
         "0"
        ],
        [
         "8",
         "0"
        ],
        [
         "9",
         "0"
        ],
        [
         "10",
         "0"
        ],
        [
         "11",
         "0"
        ],
        [
         "12",
         "0"
        ],
        [
         "13",
         "0"
        ],
        [
         "14",
         "0"
        ],
        [
         "15",
         "0"
        ],
        [
         "16",
         "0"
        ],
        [
         "17",
         "0"
        ],
        [
         "18",
         "0"
        ],
        [
         "19",
         "0"
        ],
        [
         "20",
         "0"
        ],
        [
         "21",
         "0"
        ],
        [
         "22",
         "0"
        ],
        [
         "23",
         "0"
        ],
        [
         "24",
         "0"
        ],
        [
         "25",
         "0"
        ],
        [
         "26",
         "0"
        ],
        [
         "27",
         "0"
        ],
        [
         "28",
         "0"
        ],
        [
         "29",
         "0"
        ],
        [
         "30",
         "0"
        ],
        [
         "31",
         "0"
        ],
        [
         "32",
         "0"
        ],
        [
         "33",
         "0"
        ],
        [
         "34",
         "0"
        ],
        [
         "35",
         "0"
        ],
        [
         "36",
         "0"
        ],
        [
         "37",
         "0"
        ],
        [
         "38",
         "0"
        ],
        [
         "39",
         "0"
        ],
        [
         "40",
         "0"
        ],
        [
         "41",
         "0"
        ],
        [
         "42",
         "0"
        ],
        [
         "43",
         "0"
        ],
        [
         "44",
         "0"
        ],
        [
         "45",
         "0"
        ],
        [
         "46",
         "0"
        ],
        [
         "47",
         "0"
        ],
        [
         "48",
         "0"
        ],
        [
         "49",
         "0"
        ]
       ],
       "shape": {
        "columns": 1,
        "rows": 400
       }
      },
      "text/plain": [
       "0      0\n",
       "1      0\n",
       "2      0\n",
       "3      0\n",
       "4      0\n",
       "      ..\n",
       "395    1\n",
       "396    1\n",
       "397    1\n",
       "398    1\n",
       "399    1\n",
       "Name: Y, Length: 400, dtype: int64"
      ]
     },
     "execution_count": 21,
     "metadata": {},
     "output_type": "execute_result"
    }
   ],
   "source": [
    "y"
   ]
  },
  {
   "cell_type": "code",
   "execution_count": 22,
   "metadata": {},
   "outputs": [],
   "source": [
    "## Split the dataset into train and test\n",
    "from sklearn.model_selection import train_test_split\n",
    "X_train,X_test,y_train,y_test=train_test_split(X,y,test_size=0.25,random_state=0)"
   ]
  },
  {
   "cell_type": "code",
   "execution_count": 23,
   "metadata": {},
   "outputs": [
    {
     "data": {
      "application/vnd.microsoft.datawrangler.viewer.v0+json": {
       "columns": [
        {
         "name": "index",
         "rawType": "int64",
         "type": "integer"
        },
        {
         "name": "Y",
         "rawType": "int64",
         "type": "integer"
        }
       ],
       "ref": "e69542f9-6248-40b3-972b-88da28e8db0f",
       "rows": [
        [
         "250",
         "1"
        ],
        [
         "63",
         "0"
        ],
        [
         "312",
         "1"
        ],
        [
         "159",
         "0"
        ],
        [
         "283",
         "1"
        ],
        [
         "340",
         "1"
        ],
        [
         "81",
         "0"
        ],
        [
         "349",
         "1"
        ],
        [
         "153",
         "0"
        ],
        [
         "295",
         "1"
        ],
        [
         "96",
         "0"
        ],
        [
         "89",
         "0"
        ],
        [
         "296",
         "1"
        ],
        [
         "21",
         "0"
        ],
        [
         "365",
         "1"
        ],
        [
         "216",
         "1"
        ],
        [
         "259",
         "1"
        ],
        [
         "49",
         "0"
        ],
        [
         "238",
         "1"
        ],
        [
         "343",
         "1"
        ],
        [
         "92",
         "0"
        ],
        [
         "223",
         "1"
        ],
        [
         "234",
         "1"
        ],
        [
         "232",
         "1"
        ],
        [
         "377",
         "1"
        ],
        [
         "142",
         "0"
        ],
        [
         "22",
         "0"
        ],
        [
         "252",
         "1"
        ],
        [
         "350",
         "1"
        ],
        [
         "168",
         "0"
        ],
        [
         "150",
         "0"
        ],
        [
         "393",
         "1"
        ],
        [
         "66",
         "0"
        ],
        [
         "240",
         "1"
        ],
        [
         "218",
         "1"
        ],
        [
         "101",
         "0"
        ],
        [
         "311",
         "1"
        ],
        [
         "194",
         "0"
        ],
        [
         "326",
         "1"
        ],
        [
         "17",
         "0"
        ],
        [
         "164",
         "0"
        ],
        [
         "186",
         "0"
        ],
        [
         "30",
         "0"
        ],
        [
         "114",
         "0"
        ],
        [
         "263",
         "1"
        ],
        [
         "103",
         "0"
        ],
        [
         "358",
         "1"
        ],
        [
         "245",
         "1"
        ],
        [
         "235",
         "1"
        ],
        [
         "116",
         "0"
        ]
       ],
       "shape": {
        "columns": 1,
        "rows": 300
       }
      },
      "text/plain": [
       "250    1\n",
       "63     0\n",
       "312    1\n",
       "159    0\n",
       "283    1\n",
       "      ..\n",
       "323    1\n",
       "192    0\n",
       "117    0\n",
       "47     0\n",
       "172    0\n",
       "Name: Y, Length: 300, dtype: int64"
      ]
     },
     "execution_count": 23,
     "metadata": {},
     "output_type": "execute_result"
    }
   ],
   "source": [
    "y_train"
   ]
  },
  {
   "attachments": {
    "image.png": {
     "image/png": "[encoded data removed]"
    }
   },
   "cell_type": "markdown",
   "metadata": {},
   "source": [
    "### Polynomial Kernel\n",
    "![image.png](attachment:image.png)"
   ]
  },
  {
   "cell_type": "code",
   "execution_count": 24,
   "metadata": {},
   "outputs": [
    {
     "data": {
      "application/vnd.microsoft.datawrangler.viewer.v0+json": {
       "columns": [
        {
         "name": "index",
         "rawType": "int64",
         "type": "integer"
        },
        {
         "name": "X1",
         "rawType": "float64",
         "type": "float"
        },
        {
         "name": "X2",
         "rawType": "float64",
         "type": "float"
        },
        {
         "name": "Y",
         "rawType": "int64",
         "type": "integer"
        },
        {
         "name": "X1_Square",
         "rawType": "float64",
         "type": "float"
        },
        {
         "name": "X2_Square",
         "rawType": "float64",
         "type": "float"
        },
        {
         "name": "X1*X2",
         "rawType": "float64",
         "type": "float"
        }
       ],
       "ref": "c07ef9cb-f127-4e56-a4d8-d924cac18530",
       "rows": [
        [
         "0",
         "8.660254037844387",
         "-5.0",
         "0",
         "75.00000000000001",
         "25.0",
         "-43.30127018922194"
        ],
        [
         "1",
         "8.71779203523432",
         "-4.898989898989899",
         "0",
         "75.99989796959494",
         "24.00010203040506",
         "-42.708375122107526"
        ],
        [
         "2",
         "8.773789936975795",
         "-4.797979797979798",
         "0",
         "76.97938985817774",
         "23.02061014182226",
         "-42.09646686932831"
        ],
        [
         "3",
         "8.82827704967104",
         "-4.696969696969697",
         "0",
         "77.93847566574841",
         "22.061524334251608",
         "-41.466149778757924"
        ],
        [
         "4",
         "8.88128117966698",
         "-4.595959595959596",
         "0",
         "78.87715539230689",
         "21.122844607693093",
         "-40.81800946210581"
        ]
       ],
       "shape": {
        "columns": 6,
        "rows": 5
       }
      },
      "text/html": [
       "<div>\n",
       "<style scoped>\n",
       "    .dataframe tbody tr th:only-of-type {\n",
       "        vertical-align: middle;\n",
       "    }\n",
       "\n",
       "    .dataframe tbody tr th {\n",
       "        vertical-align: top;\n",
       "    }\n",
       "\n",
       "    .dataframe thead th {\n",
       "        text-align: right;\n",
       "    }\n",
       "</style>\n",
       "<table border=\"1\" class=\"dataframe\">\n",
       "  <thead>\n",
       "    <tr style=\"text-align: right;\">\n",
       "      <th></th>\n",
       "      <th>X1</th>\n",
       "      <th>X2</th>\n",
       "      <th>Y</th>\n",
       "      <th>X1_Square</th>\n",
       "      <th>X2_Square</th>\n",
       "      <th>X1*X2</th>\n",
       "    </tr>\n",
       "  </thead>\n",
       "  <tbody>\n",
       "    <tr>\n",
       "      <th>0</th>\n",
       "      <td>8.660254</td>\n",
       "      <td>-5.00000</td>\n",
       "      <td>0</td>\n",
       "      <td>75.000000</td>\n",
       "      <td>25.000000</td>\n",
       "      <td>-43.301270</td>\n",
       "    </tr>\n",
       "    <tr>\n",
       "      <th>1</th>\n",
       "      <td>8.717792</td>\n",
       "      <td>-4.89899</td>\n",
       "      <td>0</td>\n",
       "      <td>75.999898</td>\n",
       "      <td>24.000102</td>\n",
       "      <td>-42.708375</td>\n",
       "    </tr>\n",
       "    <tr>\n",
       "      <th>2</th>\n",
       "      <td>8.773790</td>\n",
       "      <td>-4.79798</td>\n",
       "      <td>0</td>\n",
       "      <td>76.979390</td>\n",
       "      <td>23.020610</td>\n",
       "      <td>-42.096467</td>\n",
       "    </tr>\n",
       "    <tr>\n",
       "      <th>3</th>\n",
       "      <td>8.828277</td>\n",
       "      <td>-4.69697</td>\n",
       "      <td>0</td>\n",
       "      <td>77.938476</td>\n",
       "      <td>22.061524</td>\n",
       "      <td>-41.466150</td>\n",
       "    </tr>\n",
       "    <tr>\n",
       "      <th>4</th>\n",
       "      <td>8.881281</td>\n",
       "      <td>-4.59596</td>\n",
       "      <td>0</td>\n",
       "      <td>78.877155</td>\n",
       "      <td>21.122845</td>\n",
       "      <td>-40.818009</td>\n",
       "    </tr>\n",
       "  </tbody>\n",
       "</table>\n",
       "</div>"
      ],
      "text/plain": [
       "         X1       X2  Y  X1_Square  X2_Square      X1*X2\n",
       "0  8.660254 -5.00000  0  75.000000  25.000000 -43.301270\n",
       "1  8.717792 -4.89899  0  75.999898  24.000102 -42.708375\n",
       "2  8.773790 -4.79798  0  76.979390  23.020610 -42.096467\n",
       "3  8.828277 -4.69697  0  77.938476  22.061524 -41.466150\n",
       "4  8.881281 -4.59596  0  78.877155  21.122845 -40.818009"
      ]
     },
     "execution_count": 24,
     "metadata": {},
     "output_type": "execute_result"
    }
   ],
   "source": [
    "# We need to find components for the Polynomical Kernel\n",
    "#X1,X2,X1_square,X2_square,X1*X2\n",
    "df['X1_Square']= df['X1']**2\n",
    "df['X2_Square']= df['X2']**2\n",
    "df['X1*X2'] = (df['X1'] *df['X2'])\n",
    "df.head()"
   ]
  },
  {
   "cell_type": "code",
   "execution_count": 25,
   "metadata": {},
   "outputs": [],
   "source": [
    "### Independent and Dependent features\n",
    "X = df[['X1','X2','X1_Square','X2_Square','X1*X2']]\n",
    "y = df['Y']"
   ]
  },
  {
   "cell_type": "code",
   "execution_count": 26,
   "metadata": {},
   "outputs": [
    {
     "data": {
      "application/vnd.microsoft.datawrangler.viewer.v0+json": {
       "columns": [
        {
         "name": "index",
         "rawType": "int64",
         "type": "integer"
        },
        {
         "name": "Y",
         "rawType": "int64",
         "type": "integer"
        }
       ],
       "ref": "edc5d1ec-e68f-40c8-b133-cb3591b2121f",
       "rows": [
        [
         "0",
         "0"
        ],
        [
         "1",
         "0"
        ],
        [
         "2",
         "0"
        ],
        [
         "3",
         "0"
        ],
        [
         "4",
         "0"
        ],
        [
         "5",
         "0"
        ],
        [
         "6",
         "0"
        ],
        [
         "7",
         "0"
        ],
        [
         "8",
         "0"
        ],
        [
         "9",
         "0"
        ],
        [
         "10",
         "0"
        ],
        [
         "11",
         "0"
        ],
        [
         "12",
         "0"
        ],
        [
         "13",
         "0"
        ],
        [
         "14",
         "0"
        ],
        [
         "15",
         "0"
        ],
        [
         "16",
         "0"
        ],
        [
         "17",
         "0"
        ],
        [
         "18",
         "0"
        ],
        [
         "19",
         "0"
        ],
        [
         "20",
         "0"
        ],
        [
         "21",
         "0"
        ],
        [
         "22",
         "0"
        ],
        [
         "23",
         "0"
        ],
        [
         "24",
         "0"
        ],
        [
         "25",
         "0"
        ],
        [
         "26",
         "0"
        ],
        [
         "27",
         "0"
        ],
        [
         "28",
         "0"
        ],
        [
         "29",
         "0"
        ],
        [
         "30",
         "0"
        ],
        [
         "31",
         "0"
        ],
        [
         "32",
         "0"
        ],
        [
         "33",
         "0"
        ],
        [
         "34",
         "0"
        ],
        [
         "35",
         "0"
        ],
        [
         "36",
         "0"
        ],
        [
         "37",
         "0"
        ],
        [
         "38",
         "0"
        ],
        [
         "39",
         "0"
        ],
        [
         "40",
         "0"
        ],
        [
         "41",
         "0"
        ],
        [
         "42",
         "0"
        ],
        [
         "43",
         "0"
        ],
        [
         "44",
         "0"
        ],
        [
         "45",
         "0"
        ],
        [
         "46",
         "0"
        ],
        [
         "47",
         "0"
        ],
        [
         "48",
         "0"
        ],
        [
         "49",
         "0"
        ]
       ],
       "shape": {
        "columns": 1,
        "rows": 400
       }
      },
      "text/plain": [
       "0      0\n",
       "1      0\n",
       "2      0\n",
       "3      0\n",
       "4      0\n",
       "      ..\n",
       "395    1\n",
       "396    1\n",
       "397    1\n",
       "398    1\n",
       "399    1\n",
       "Name: Y, Length: 400, dtype: int64"
      ]
     },
     "execution_count": 26,
     "metadata": {},
     "output_type": "execute_result"
    }
   ],
   "source": [
    "y"
   ]
  },
  {
   "cell_type": "code",
   "execution_count": null,
   "metadata": {},
   "outputs": [],
   "source": []
  },
  {
   "cell_type": "code",
   "execution_count": 27,
   "metadata": {},
   "outputs": [],
   "source": [
    "\n",
    "X_train, X_test, y_train, y_test = train_test_split(X, y, \n",
    "                                                    test_size = 0.25, \n",
    "                                                    random_state = 0)\n"
   ]
  },
  {
   "cell_type": "code",
   "execution_count": 28,
   "metadata": {},
   "outputs": [
    {
     "data": {
      "application/vnd.microsoft.datawrangler.viewer.v0+json": {
       "columns": [
        {
         "name": "index",
         "rawType": "int64",
         "type": "integer"
        },
        {
         "name": "X1",
         "rawType": "float64",
         "type": "float"
        },
        {
         "name": "X2",
         "rawType": "float64",
         "type": "float"
        },
        {
         "name": "X1_Square",
         "rawType": "float64",
         "type": "float"
        },
        {
         "name": "X2_Square",
         "rawType": "float64",
         "type": "float"
        },
        {
         "name": "X1*X2",
         "rawType": "float64",
         "type": "float"
        }
       ],
       "ref": "6e4e7d8d-41d1-475a-999f-5cc36f03f263",
       "rows": [
        [
         "250",
         "4.999744917480639",
         "0.050505050505050164",
         "24.99744923987348",
         "0.002550760126517668",
         "0.2525123695697275"
        ],
        [
         "63",
         "9.906588508046985",
         "1.3636363636363633",
         "98.14049586776859",
         "1.859504132231404",
         "13.508984329154977"
        ],
        [
         "312",
         "-3.263736246748184",
         "-3.787878787878788",
         "10.651974288337922",
         "14.348025711662077",
         "12.362637298288575"
        ],
        [
         "159",
         "-9.953852299201907",
         "0.9595959595959593",
         "99.0791755943271",
         "0.92082440567289",
         "-9.5516764487291"
        ],
        [
         "283",
         "3.6809832643007265",
         "3.383838383838384",
         "13.549637792062033",
         "11.450362207937967",
         "12.45585246000751"
        ],
        [
         "340",
         "-4.907053657168129",
         "-0.9595959595959593",
         "24.07917559432711",
         "0.92082440567289",
         "4.708788862939112"
        ],
        [
         "81",
         "9.480297097551913",
         "3.1818181818181817",
         "89.87603305785123",
         "10.12396694214876",
         "30.164581674028813"
        ],
        [
         "349",
         "-4.999744917480639",
         "-0.050505050505050164",
         "24.99744923987348",
         "0.002550760126517668",
         "0.2525123695697275"
        ],
        [
         "153",
         "-9.993748683742284",
         "0.3535353535353538",
         "99.87501275380063",
         "0.1249872461993676",
         "-3.533143474050305"
        ],
        [
         "295",
         "1.9690493625876713",
         "4.595959595959595",
         "3.8771553923069146",
         "21.122844607693086",
         "9.049671312902932"
        ],
        [
         "96",
         "8.82827704967104",
         "4.696969696969697",
         "77.93847566574841",
         "22.061524334251608",
         "41.466149778757924"
        ],
        [
         "89",
         "9.16955320887572",
         "3.9898989898989896",
         "84.08070605040302",
         "15.919293949596977",
         "36.585591085918274"
        ],
        [
         "296",
         "1.714198257421933",
         "4.696969696969697",
         "2.9384756657483915",
         "22.061524334251608",
         "8.05153726970908"
        ],
        [
         "21",
         "9.576668541248777",
         "-2.878787878787879",
         "91.71258034894397",
         "8.287419651056016",
         "-27.569197315716178"
        ],
        [
         "365",
         "-4.748549201431579",
         "1.5656565656565657",
         "22.548719518416483",
         "2.4512804815835123",
         "-7.434597234564594"
        ],
        [
         "216",
         "3.6809832643007265",
         "-3.383838383838384",
         "13.549637792062033",
         "11.450362207937967",
         "-12.45585246000751"
        ],
        [
         "259",
         "4.907053657168129",
         "0.9595959595959593",
         "24.07917559432711",
         "0.92082440567289",
         "4.708788862939112"
        ],
        [
         "49",
         "9.999872461180367",
         "-0.050505050505050164",
         "99.99744923987349",
         "0.002550760126517668",
         "-0.5050440636959747"
        ],
        [
         "238",
         "4.863193178670999",
         "-1.1616161616161618",
         "23.650647893072133",
         "1.349352106927865",
         "-5.649163793405706"
        ],
        [
         "343",
         "-4.956704705610221",
         "-0.6565656565656566",
         "24.568921538618508",
         "0.4310784613814917",
         "3.2544020794410544"
        ],
        [
         "92",
         "9.031653120326844",
         "4.292929292929292",
         "81.57075808590962",
         "18.429241914090394",
         "38.772248243827356"
        ],
        [
         "223",
         "4.2231403960337115",
         "-2.676767676767677",
         "17.834914804611774",
         "7.165085195388227",
         "-11.304365706554885"
        ],
        [
         "234",
         "4.748549201431579",
         "-1.5656565656565657",
         "22.548719518416483",
         "2.4512804815835123",
         "-7.434597234564594"
        ],
        [
         "232",
         "4.677105819309182",
         "-1.7676767676767677",
         "21.87531884501582",
         "3.1246811549841853",
         "-8.267611296758655"
        ],
        [
         "377",
         "-4.15739709641549",
         "2.7777777777777777",
         "17.28395061728395",
         "7.716049382716049",
         "-11.548325267820806"
        ],
        [
         "142",
         "-9.971262656832058",
         "-0.7575757575757578",
         "99.42607897153351",
         "0.5739210284664833",
         "7.55398686123641"
        ],
        [
         "22",
         "9.60645359210588",
         "-2.7777777777777777",
         "92.28395061728395",
         "7.716049382716049",
         "-26.68459331140522"
        ],
        [
         "252",
         "4.9936190280033435",
         "0.2525252525252526",
         "24.936230996837057",
         "0.0637690031629426",
         "1.2610149060614508"
        ],
        [
         "350",
         "-4.999744917480639",
         "0.050505050505050164",
         "24.99744923987348",
         "0.002550760126517668",
         "-0.2525123695697275"
        ],
        [
         "168",
         "-9.823849010789878",
         "1.8686868686868685",
         "96.50800938679727",
         "3.491990613202734",
         "-18.357697646425528"
        ],
        [
         "150",
         "-9.999872461180367",
         "0.050505050505050164",
         "99.99744923987349",
         "0.002550760126517668",
         "-0.5050440636959747"
        ],
        [
         "393",
         "-2.38606299212479",
         "4.3939393939393945",
         "5.6932966023875045",
         "19.306703397612495",
         "-10.484216177518016"
        ],
        [
         "66",
         "9.860132971832694",
         "1.666666666666667",
         "97.22222222222224",
         "2.7777777777777786",
         "16.433554953054493"
        ],
        [
         "240",
         "4.907053657168129",
         "-0.9595959595959593",
         "24.07917559432711",
         "0.92082440567289",
         "-4.708788862939112"
        ],
        [
         "218",
         "3.85694607919935",
         "-3.1818181818181817",
         "14.876033057851238",
         "10.12396694214876",
         "-12.27210116108884"
        ],
        [
         "101",
         "-8.71779203523432",
         "-4.898989898989899",
         "75.99989796959494",
         "24.00010203040506",
         "42.708375122107526"
        ],
        [
         "311",
         "-3.1426968052735447",
         "-3.888888888888889",
         "9.876543209876544",
         "15.123456790123456",
         "12.221598687174895"
        ],
        [
         "194",
         "-8.932828725429212",
         "4.494949494949495",
         "79.79542903785328",
         "20.204570962146718",
         "-40.15261396783838"
        ],
        [
         "326",
         "-4.400610285008478",
         "-2.3737373737373737",
         "19.365370880522395",
         "5.634629119477604",
         "10.445893100777699"
        ],
        [
         "17",
         "9.445794750335342",
         "-3.282828282828283",
         "89.2230384654627",
         "10.776961534537293",
         "-31.00892216019178"
        ],
        [
         "164",
         "-9.89215905318948",
         "1.4646464646464645",
         "97.8548107335986",
         "2.1451892664013874",
         "-14.48851578497449"
        ],
        [
         "186",
         "-9.295536524902001",
         "3.686868686868687",
         "86.40699928578718",
         "13.593000714212835",
         "-34.271422541305355"
        ],
        [
         "30",
         "9.804095768991987",
         "-1.9696969696969697",
         "96.12029384756657",
         "3.879706152433425",
         "-19.311097726802398"
        ],
        [
         "114",
         "-9.33496749872351",
         "-3.5858585858585856",
         "87.14161820222425",
         "12.858381797775735",
         "33.47387335400854"
        ],
        [
         "263",
         "4.810456929208347",
         "1.3636363636363633",
         "23.1404958677686",
         "1.859504132231404",
         "6.559713994375017"
        ],
        [
         "103",
         "-8.82827704967104",
         "-4.696969696969697",
         "77.93847566574841",
         "22.061524334251608",
         "41.466149778757924"
        ],
        [
         "358",
         "-4.92573145060065",
         "0.8585858585858581",
         "24.262830323436383",
         "0.7371696765636152",
         "-4.229163366677324"
        ],
        [
         "245",
         "4.979295977319692",
         "-0.45454545454545503",
         "24.79338842975207",
         "0.20661157024793433",
         "-2.263316353327135"
        ],
        [
         "235",
         "4.78067053179767",
         "-1.4646464646464645",
         "22.854810733598615",
         "2.1451892664013874",
         "-7.00199219303699"
        ],
        [
         "116",
         "-9.41008171016926",
         "-3.383838383838384",
         "88.54963779206203",
         "11.450362207937967",
         "31.84219568592629"
        ]
       ],
       "shape": {
        "columns": 5,
        "rows": 300
       }
      },
      "text/html": [
       "<div>\n",
       "<style scoped>\n",
       "    .dataframe tbody tr th:only-of-type {\n",
       "        vertical-align: middle;\n",
       "    }\n",
       "\n",
       "    .dataframe tbody tr th {\n",
       "        vertical-align: top;\n",
       "    }\n",
       "\n",
       "    .dataframe thead th {\n",
       "        text-align: right;\n",
       "    }\n",
       "</style>\n",
       "<table border=\"1\" class=\"dataframe\">\n",
       "  <thead>\n",
       "    <tr style=\"text-align: right;\">\n",
       "      <th></th>\n",
       "      <th>X1</th>\n",
       "      <th>X2</th>\n",
       "      <th>X1_Square</th>\n",
       "      <th>X2_Square</th>\n",
       "      <th>X1*X2</th>\n",
       "    </tr>\n",
       "  </thead>\n",
       "  <tbody>\n",
       "    <tr>\n",
       "      <th>250</th>\n",
       "      <td>4.999745</td>\n",
       "      <td>0.050505</td>\n",
       "      <td>24.997449</td>\n",
       "      <td>0.002551</td>\n",
       "      <td>0.252512</td>\n",
       "    </tr>\n",
       "    <tr>\n",
       "      <th>63</th>\n",
       "      <td>9.906589</td>\n",
       "      <td>1.363636</td>\n",
       "      <td>98.140496</td>\n",
       "      <td>1.859504</td>\n",
       "      <td>13.508984</td>\n",
       "    </tr>\n",
       "    <tr>\n",
       "      <th>312</th>\n",
       "      <td>-3.263736</td>\n",
       "      <td>-3.787879</td>\n",
       "      <td>10.651974</td>\n",
       "      <td>14.348026</td>\n",
       "      <td>12.362637</td>\n",
       "    </tr>\n",
       "    <tr>\n",
       "      <th>159</th>\n",
       "      <td>-9.953852</td>\n",
       "      <td>0.959596</td>\n",
       "      <td>99.079176</td>\n",
       "      <td>0.920824</td>\n",
       "      <td>-9.551676</td>\n",
       "    </tr>\n",
       "    <tr>\n",
       "      <th>283</th>\n",
       "      <td>3.680983</td>\n",
       "      <td>3.383838</td>\n",
       "      <td>13.549638</td>\n",
       "      <td>11.450362</td>\n",
       "      <td>12.455852</td>\n",
       "    </tr>\n",
       "    <tr>\n",
       "      <th>...</th>\n",
       "      <td>...</td>\n",
       "      <td>...</td>\n",
       "      <td>...</td>\n",
       "      <td>...</td>\n",
       "      <td>...</td>\n",
       "    </tr>\n",
       "    <tr>\n",
       "      <th>323</th>\n",
       "      <td>-4.223140</td>\n",
       "      <td>-2.676768</td>\n",
       "      <td>17.834915</td>\n",
       "      <td>7.165085</td>\n",
       "      <td>11.304366</td>\n",
       "    </tr>\n",
       "    <tr>\n",
       "      <th>192</th>\n",
       "      <td>-9.031653</td>\n",
       "      <td>4.292929</td>\n",
       "      <td>81.570758</td>\n",
       "      <td>18.429242</td>\n",
       "      <td>-38.772248</td>\n",
       "    </tr>\n",
       "    <tr>\n",
       "      <th>117</th>\n",
       "      <td>-9.445795</td>\n",
       "      <td>-3.282828</td>\n",
       "      <td>89.223038</td>\n",
       "      <td>10.776962</td>\n",
       "      <td>31.008922</td>\n",
       "    </tr>\n",
       "    <tr>\n",
       "      <th>47</th>\n",
       "      <td>9.996811</td>\n",
       "      <td>-0.252525</td>\n",
       "      <td>99.936231</td>\n",
       "      <td>0.063769</td>\n",
       "      <td>-2.524447</td>\n",
       "    </tr>\n",
       "    <tr>\n",
       "      <th>172</th>\n",
       "      <td>-9.738311</td>\n",
       "      <td>2.272727</td>\n",
       "      <td>94.834711</td>\n",
       "      <td>5.165289</td>\n",
       "      <td>-22.132526</td>\n",
       "    </tr>\n",
       "  </tbody>\n",
       "</table>\n",
       "<p>300 rows × 5 columns</p>\n",
       "</div>"
      ],
      "text/plain": [
       "           X1        X2  X1_Square  X2_Square      X1*X2\n",
       "250  4.999745  0.050505  24.997449   0.002551   0.252512\n",
       "63   9.906589  1.363636  98.140496   1.859504  13.508984\n",
       "312 -3.263736 -3.787879  10.651974  14.348026  12.362637\n",
       "159 -9.953852  0.959596  99.079176   0.920824  -9.551676\n",
       "283  3.680983  3.383838  13.549638  11.450362  12.455852\n",
       "..        ...       ...        ...        ...        ...\n",
       "323 -4.223140 -2.676768  17.834915   7.165085  11.304366\n",
       "192 -9.031653  4.292929  81.570758  18.429242 -38.772248\n",
       "117 -9.445795 -3.282828  89.223038  10.776962  31.008922\n",
       "47   9.996811 -0.252525  99.936231   0.063769  -2.524447\n",
       "172 -9.738311  2.272727  94.834711   5.165289 -22.132526\n",
       "\n",
       "[300 rows x 5 columns]"
      ]
     },
     "execution_count": 28,
     "metadata": {},
     "output_type": "execute_result"
    }
   ],
   "source": [
    "X_train"
   ]
  },
  {
   "cell_type": "code",
   "execution_count": 29,
   "metadata": {},
   "outputs": [
    {
     "data": {
      "application/vnd.plotly.v1+json": {
       "config": {
        "plotlyServerURL": "https://plot.ly"
       },
       "data": [
        {
         "hovertemplate": "X1=%{x}<br>X2=%{y}<br>X1*X2=%{z}<br>Y=%{marker.color}<extra></extra>",
         "legendgroup": "",
         "marker": {
          "color": {
           "bdata": "AAAAAAAAAAAAAAAAAAAAAAAAAAAAAAAAAAAAAAAAAAAAAAAAAAAAAAAAAAAAAAAAAAAAAAAAAAAAAAAAAAAAAAAAAAAAAAAAAAAAAAAAAAAAAAAAAAAAAAAAAAAAAAAAAAAAAAAAAAAAAAAAAAAAAAAAAAAAAAAAAAAAAAAAAAAAAAAAAAAAAAAAAAAAAAAAAAAAAAAAAAAAAAAAAAAAAAAAAAAAAAAAAAAAAAAAAAAAAAAAAAAAAAAAAAAAAAAAAAAAAAAAAAABAQEBAQEBAQEBAQEBAQEBAQEBAQEBAQEBAQEBAQEBAQEBAQEBAQEBAQEBAQEBAQEBAQEBAQEBAQEBAQEBAQEBAQEBAQEBAQEBAQEBAQEBAQEBAQEBAQEBAQEBAQEBAQEBAQEBAQEBAQEBAQEBAQEBAQEBAQEBAQEBAQEBAQEBAQEBAQEBAQEBAQEBAQEBAQEBAQEBAQEBAQEBAQEBAQEBAQEBAQEBAQEBAQEBAQEBAQEBAQEBAQEBAQEBAQEBAQEBAQEBAQEBAQ==",
           "dtype": "i1"
          },
          "coloraxis": "coloraxis",
          "symbol": "circle"
         },
         "mode": "markers",
         "name": "",
         "scene": "scene",
         "showlegend": false,
         "type": "scatter3d",
         "x": {
          "bdata": "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",
          "dtype": "f8"
         },
         "y": {
          "bdata": "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",
          "dtype": "f8"
         },
         "z": {
          "bdata": "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",
          "dtype": "f8"
         }
        }
       ],
       "layout": {
        "coloraxis": {
         "colorbar": {
          "title": {
           "text": "Y"
          }
         },
         "colorscale": [
          [
           0,
           "#0d0887"
          ],
          [
           0.1111111111111111,
           "#46039f"
          ],
          [
           0.2222222222222222,
           "#7201a8"
          ],
          [
           0.3333333333333333,
           "#9c179e"
          ],
          [
           0.4444444444444444,
           "#bd3786"
          ],
          [
           0.5555555555555556,
           "#d8576b"
          ],
          [
           0.6666666666666666,
           "#ed7953"
          ],
          [
           0.7777777777777778,
           "#fb9f3a"
          ],
          [
           0.8888888888888888,
           "#fdca26"
          ],
          [
           1,
           "#f0f921"
          ]
         ]
        },
        "legend": {
         "tracegroupgap": 0
        },
        "margin": {
         "t": 60
        },
        "scene": {
         "domain": {
          "x": [
           0,
           1
          ],
          "y": [
           0,
           1
          ]
         },
         "xaxis": {
          "title": {
           "text": "X1"
          }
         },
         "yaxis": {
          "title": {
           "text": "X2"
          }
         },
         "zaxis": {
          "title": {
           "text": "X1*X2"
          }
         }
        },
        "template": {
         "data": {
          "bar": [
           {
            "error_x": {
             "color": "#2a3f5f"
            },
            "error_y": {
             "color": "#2a3f5f"
            },
            "marker": {
             "line": {
              "color": "#E5ECF6",
              "width": 0.5
             },
             "pattern": {
              "fillmode": "overlay",
              "size": 10,
              "solidity": 0.2
             }
            },
            "type": "bar"
           }
          ],
          "barpolar": [
           {
            "marker": {
             "line": {
              "color": "#E5ECF6",
              "width": 0.5
             },
             "pattern": {
              "fillmode": "overlay",
              "size": 10,
              "solidity": 0.2
             }
            },
            "type": "barpolar"
           }
          ],
          "carpet": [
           {
            "aaxis": {
             "endlinecolor": "#2a3f5f",
             "gridcolor": "white",
             "linecolor": "white",
             "minorgridcolor": "white",
             "startlinecolor": "#2a3f5f"
            },
            "baxis": {
             "endlinecolor": "#2a3f5f",
             "gridcolor": "white",
             "linecolor": "white",
             "minorgridcolor": "white",
             "startlinecolor": "#2a3f5f"
            },
            "type": "carpet"
           }
          ],
          "choropleth": [
           {
            "colorbar": {
             "outlinewidth": 0,
             "ticks": ""
            },
            "type": "choropleth"
           }
          ],
          "contour": [
           {
            "colorbar": {
             "outlinewidth": 0,
             "ticks": ""
            },
            "colorscale": [
             [
              0,
              "#0d0887"
             ],
             [
              0.1111111111111111,
              "#46039f"
             ],
             [
              0.2222222222222222,
              "#7201a8"
             ],
             [
              0.3333333333333333,
              "#9c179e"
             ],
             [
              0.4444444444444444,
              "#bd3786"
             ],
             [
              0.5555555555555556,
              "#d8576b"
             ],
             [
              0.6666666666666666,
              "#ed7953"
             ],
             [
              0.7777777777777778,
              "#fb9f3a"
             ],
             [
              0.8888888888888888,
              "#fdca26"
             ],
             [
              1,
              "#f0f921"
             ]
            ],
            "type": "contour"
           }
          ],
          "contourcarpet": [
           {
            "colorbar": {
             "outlinewidth": 0,
             "ticks": ""
            },
            "type": "contourcarpet"
           }
          ],
          "heatmap": [
           {
            "colorbar": {
             "outlinewidth": 0,
             "ticks": ""
            },
            "colorscale": [
             [
              0,
              "#0d0887"
             ],
             [
              0.1111111111111111,
              "#46039f"
             ],
             [
              0.2222222222222222,
              "#7201a8"
             ],
             [
              0.3333333333333333,
              "#9c179e"
             ],
             [
              0.4444444444444444,
              "#bd3786"
             ],
             [
              0.5555555555555556,
              "#d8576b"
             ],
             [
              0.6666666666666666,
              "#ed7953"
             ],
             [
              0.7777777777777778,
              "#fb9f3a"
             ],
             [
              0.8888888888888888,
              "#fdca26"
             ],
             [
              1,
              "#f0f921"
             ]
            ],
            "type": "heatmap"
           }
          ],
          "histogram": [
           {
            "marker": {
             "pattern": {
              "fillmode": "overlay",
              "size": 10,
              "solidity": 0.2
             }
            },
            "type": "histogram"
           }
          ],
          "histogram2d": [
           {
            "colorbar": {
             "outlinewidth": 0,
             "ticks": ""
            },
            "colorscale": [
             [
              0,
              "#0d0887"
             ],
             [
              0.1111111111111111,
              "#46039f"
             ],
             [
              0.2222222222222222,
              "#7201a8"
             ],
             [
              0.3333333333333333,
              "#9c179e"
             ],
             [
              0.4444444444444444,
              "#bd3786"
             ],
             [
              0.5555555555555556,
              "#d8576b"
             ],
             [
              0.6666666666666666,
              "#ed7953"
             ],
             [
              0.7777777777777778,
              "#fb9f3a"
             ],
             [
              0.8888888888888888,
              "#fdca26"
             ],
             [
              1,
              "#f0f921"
             ]
            ],
            "type": "histogram2d"
           }
          ],
          "histogram2dcontour": [
           {
            "colorbar": {
             "outlinewidth": 0,
             "ticks": ""
            },
            "colorscale": [
             [
              0,
              "#0d0887"
             ],
             [
              0.1111111111111111,
              "#46039f"
             ],
             [
              0.2222222222222222,
              "#7201a8"
             ],
             [
              0.3333333333333333,
              "#9c179e"
             ],
             [
              0.4444444444444444,
              "#bd3786"
             ],
             [
              0.5555555555555556,
              "#d8576b"
             ],
             [
              0.6666666666666666,
              "#ed7953"
             ],
             [
              0.7777777777777778,
              "#fb9f3a"
             ],
             [
              0.8888888888888888,
              "#fdca26"
             ],
             [
              1,
              "#f0f921"
             ]
            ],
            "type": "histogram2dcontour"
           }
          ],
          "mesh3d": [
           {
            "colorbar": {
             "outlinewidth": 0,
             "ticks": ""
            },
            "type": "mesh3d"
           }
          ],
          "parcoords": [
           {
            "line": {
             "colorbar": {
              "outlinewidth": 0,
              "ticks": ""
             }
            },
            "type": "parcoords"
           }
          ],
          "pie": [
           {
            "automargin": true,
            "type": "pie"
           }
          ],
          "scatter": [
           {
            "fillpattern": {
             "fillmode": "overlay",
             "size": 10,
             "solidity": 0.2
            },
            "type": "scatter"
           }
          ],
          "scatter3d": [
           {
            "line": {
             "colorbar": {
              "outlinewidth": 0,
              "ticks": ""
             }
            },
            "marker": {
             "colorbar": {
              "outlinewidth": 0,
              "ticks": ""
             }
            },
            "type": "scatter3d"
           }
          ],
          "scattercarpet": [
           {
            "marker": {
             "colorbar": {
              "outlinewidth": 0,
              "ticks": ""
             }
            },
            "type": "scattercarpet"
           }
          ],
          "scattergeo": [
           {
            "marker": {
             "colorbar": {
              "outlinewidth": 0,
              "ticks": ""
             }
            },
            "type": "scattergeo"
           }
          ],
          "scattergl": [
           {
            "marker": {
             "colorbar": {
              "outlinewidth": 0,
              "ticks": ""
             }
            },
            "type": "scattergl"
           }
          ],
          "scattermap": [
           {
            "marker": {
             "colorbar": {
              "outlinewidth": 0,
              "ticks": ""
             }
            },
            "type": "scattermap"
           }
          ],
          "scattermapbox": [
           {
            "marker": {
             "colorbar": {
              "outlinewidth": 0,
              "ticks": ""
             }
            },
            "type": "scattermapbox"
           }
          ],
          "scatterpolar": [
           {
            "marker": {
             "colorbar": {
              "outlinewidth": 0,
              "ticks": ""
             }
            },
            "type": "scatterpolar"
           }
          ],
          "scatterpolargl": [
           {
            "marker": {
             "colorbar": {
              "outlinewidth": 0,
              "ticks": ""
             }
            },
            "type": "scatterpolargl"
           }
          ],
          "scatterternary": [
           {
            "marker": {
             "colorbar": {
              "outlinewidth": 0,
              "ticks": ""
             }
            },
            "type": "scatterternary"
           }
          ],
          "surface": [
           {
            "colorbar": {
             "outlinewidth": 0,
             "ticks": ""
            },
            "colorscale": [
             [
              0,
              "#0d0887"
             ],
             [
              0.1111111111111111,
              "#46039f"
             ],
             [
              0.2222222222222222,
              "#7201a8"
             ],
             [
              0.3333333333333333,
              "#9c179e"
             ],
             [
              0.4444444444444444,
              "#bd3786"
             ],
             [
              0.5555555555555556,
              "#d8576b"
             ],
             [
              0.6666666666666666,
              "#ed7953"
             ],
             [
              0.7777777777777778,
              "#fb9f3a"
             ],
             [
              0.8888888888888888,
              "#fdca26"
             ],
             [
              1,
              "#f0f921"
             ]
            ],
            "type": "surface"
           }
          ],
          "table": [
           {
            "cells": {
             "fill": {
              "color": "#EBF0F8"
             },
             "line": {
              "color": "white"
             }
            },
            "header": {
             "fill": {
              "color": "#C8D4E3"
             },
             "line": {
              "color": "white"
             }
            },
            "type": "table"
           }
          ]
         },
         "layout": {
          "annotationdefaults": {
           "arrowcolor": "#2a3f5f",
           "arrowhead": 0,
           "arrowwidth": 1
          },
          "autotypenumbers": "strict",
          "coloraxis": {
           "colorbar": {
            "outlinewidth": 0,
            "ticks": ""
           }
          },
          "colorscale": {
           "diverging": [
            [
             0,
             "#8e0152"
            ],
            [
             0.1,
             "#c51b7d"
            ],
            [
             0.2,
             "#de77ae"
            ],
            [
             0.3,
             "#f1b6da"
            ],
            [
             0.4,
             "#fde0ef"
            ],
            [
             0.5,
             "#f7f7f7"
            ],
            [
             0.6,
             "#e6f5d0"
            ],
            [
             0.7,
             "#b8e186"
            ],
            [
             0.8,
             "#7fbc41"
            ],
            [
             0.9,
             "#4d9221"
            ],
            [
             1,
             "#276419"
            ]
           ],
           "sequential": [
            [
             0,
             "#0d0887"
            ],
            [
             0.1111111111111111,
             "#46039f"
            ],
            [
             0.2222222222222222,
             "#7201a8"
            ],
            [
             0.3333333333333333,
             "#9c179e"
            ],
            [
             0.4444444444444444,
             "#bd3786"
            ],
            [
             0.5555555555555556,
             "#d8576b"
            ],
            [
             0.6666666666666666,
             "#ed7953"
            ],
            [
             0.7777777777777778,
             "#fb9f3a"
            ],
            [
             0.8888888888888888,
             "#fdca26"
            ],
            [
             1,
             "#f0f921"
            ]
           ],
           "sequentialminus": [
            [
             0,
             "#0d0887"
            ],
            [
             0.1111111111111111,
             "#46039f"
            ],
            [
             0.2222222222222222,
             "#7201a8"
            ],
            [
             0.3333333333333333,
             "#9c179e"
            ],
            [
             0.4444444444444444,
             "#bd3786"
            ],
            [
             0.5555555555555556,
             "#d8576b"
            ],
            [
             0.6666666666666666,
             "#ed7953"
            ],
            [
             0.7777777777777778,
             "#fb9f3a"
            ],
            [
             0.8888888888888888,
             "#fdca26"
            ],
            [
             1,
             "#f0f921"
            ]
           ]
          },
          "colorway": [
           "#636efa",
           "#EF553B",
           "#00cc96",
           "#ab63fa",
           "#FFA15A",
           "#19d3f3",
           "#FF6692",
           "#B6E880",
           "#FF97FF",
           "#FECB52"
          ],
          "font": {
           "color": "#2a3f5f"
          },
          "geo": {
           "bgcolor": "white",
           "lakecolor": "white",
           "landcolor": "#E5ECF6",
           "showlakes": true,
           "showland": true,
           "subunitcolor": "white"
          },
          "hoverlabel": {
           "align": "left"
          },
          "hovermode": "closest",
          "mapbox": {
           "style": "light"
          },
          "paper_bgcolor": "white",
          "plot_bgcolor": "#E5ECF6",
          "polar": {
           "angularaxis": {
            "gridcolor": "white",
            "linecolor": "white",
            "ticks": ""
           },
           "bgcolor": "#E5ECF6",
           "radialaxis": {
            "gridcolor": "white",
            "linecolor": "white",
            "ticks": ""
           }
          },
          "scene": {
           "xaxis": {
            "backgroundcolor": "#E5ECF6",
            "gridcolor": "white",
            "gridwidth": 2,
            "linecolor": "white",
            "showbackground": true,
            "ticks": "",
            "zerolinecolor": "white"
           },
           "yaxis": {
            "backgroundcolor": "#E5ECF6",
            "gridcolor": "white",
            "gridwidth": 2,
            "linecolor": "white",
            "showbackground": true,
            "ticks": "",
            "zerolinecolor": "white"
           },
           "zaxis": {
            "backgroundcolor": "#E5ECF6",
            "gridcolor": "white",
            "gridwidth": 2,
            "linecolor": "white",
            "showbackground": true,
            "ticks": "",
            "zerolinecolor": "white"
           }
          },
          "shapedefaults": {
           "line": {
            "color": "#2a3f5f"
           }
          },
          "ternary": {
           "aaxis": {
            "gridcolor": "white",
            "linecolor": "white",
            "ticks": ""
           },
           "baxis": {
            "gridcolor": "white",
            "linecolor": "white",
            "ticks": ""
           },
           "bgcolor": "#E5ECF6",
           "caxis": {
            "gridcolor": "white",
            "linecolor": "white",
            "ticks": ""
           }
          },
          "title": {
           "x": 0.05
          },
          "xaxis": {
           "automargin": true,
           "gridcolor": "white",
           "linecolor": "white",
           "ticks": "",
           "title": {
            "standoff": 15
           },
           "zerolinecolor": "white",
           "zerolinewidth": 2
          },
          "yaxis": {
           "automargin": true,
           "gridcolor": "white",
           "linecolor": "white",
           "ticks": "",
           "title": {
            "standoff": 15
           },
           "zerolinecolor": "white",
           "zerolinewidth": 2
          }
         }
        }
       }
      }
     },
     "metadata": {},
     "output_type": "display_data"
    }
   ],
   "source": [
    "import plotly.express as px\n",
    "\n",
    "fig = px.scatter_3d(df, x='X1', y='X2', z='X1*X2',\n",
    "              color='Y')\n",
    "fig.show()"
   ]
  },
  {
   "cell_type": "code",
   "execution_count": 30,
   "metadata": {},
   "outputs": [
    {
     "data": {
      "application/vnd.plotly.v1+json": {
       "config": {
        "plotlyServerURL": "https://plot.ly"
       },
       "data": [
        {
         "hovertemplate": "X1_Square=%{x}<br>X2_Square=%{y}<br>X1*X2=%{z}<br>Y=%{marker.color}<extra></extra>",
         "legendgroup": "",
         "marker": {
          "color": {
           "bdata": "AAAAAAAAAAAAAAAAAAAAAAAAAAAAAAAAAAAAAAAAAAAAAAAAAAAAAAAAAAAAAAAAAAAAAAAAAAAAAAAAAAAAAAAAAAAAAAAAAAAAAAAAAAAAAAAAAAAAAAAAAAAAAAAAAAAAAAAAAAAAAAAAAAAAAAAAAAAAAAAAAAAAAAAAAAAAAAAAAAAAAAAAAAAAAAAAAAAAAAAAAAAAAAAAAAAAAAAAAAAAAAAAAAAAAAAAAAAAAAAAAAAAAAAAAAAAAAAAAAAAAAAAAAABAQEBAQEBAQEBAQEBAQEBAQEBAQEBAQEBAQEBAQEBAQEBAQEBAQEBAQEBAQEBAQEBAQEBAQEBAQEBAQEBAQEBAQEBAQEBAQEBAQEBAQEBAQEBAQEBAQEBAQEBAQEBAQEBAQEBAQEBAQEBAQEBAQEBAQEBAQEBAQEBAQEBAQEBAQEBAQEBAQEBAQEBAQEBAQEBAQEBAQEBAQEBAQEBAQEBAQEBAQEBAQEBAQEBAQEBAQEBAQEBAQEBAQEBAQEBAQEBAQEBAQEBAQ==",
           "dtype": "i1"
          },
          "coloraxis": "coloraxis",
          "symbol": "circle"
         },
         "mode": "markers",
         "name": "",
         "scene": "scene",
         "showlegend": false,
         "type": "scatter3d",
         "x": {
          "bdata": "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",
          "dtype": "f8"
         },
         "y": {
          "bdata": "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",
          "dtype": "f8"
         },
         "z": {
          "bdata": "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",
          "dtype": "f8"
         }
        }
       ],
       "layout": {
        "coloraxis": {
         "colorbar": {
          "title": {
           "text": "Y"
          }
         },
         "colorscale": [
          [
           0,
           "#0d0887"
          ],
          [
           0.1111111111111111,
           "#46039f"
          ],
          [
           0.2222222222222222,
           "#7201a8"
          ],
          [
           0.3333333333333333,
           "#9c179e"
          ],
          [
           0.4444444444444444,
           "#bd3786"
          ],
          [
           0.5555555555555556,
           "#d8576b"
          ],
          [
           0.6666666666666666,
           "#ed7953"
          ],
          [
           0.7777777777777778,
           "#fb9f3a"
          ],
          [
           0.8888888888888888,
           "#fdca26"
          ],
          [
           1,
           "#f0f921"
          ]
         ]
        },
        "legend": {
         "tracegroupgap": 0
        },
        "margin": {
         "t": 60
        },
        "scene": {
         "domain": {
          "x": [
           0,
           1
          ],
          "y": [
           0,
           1
          ]
         },
         "xaxis": {
          "title": {
           "text": "X1_Square"
          }
         },
         "yaxis": {
          "title": {
           "text": "X2_Square"
          }
         },
         "zaxis": {
          "title": {
           "text": "X1*X2"
          }
         }
        },
        "template": {
         "data": {
          "bar": [
           {
            "error_x": {
             "color": "#2a3f5f"
            },
            "error_y": {
             "color": "#2a3f5f"
            },
            "marker": {
             "line": {
              "color": "#E5ECF6",
              "width": 0.5
             },
             "pattern": {
              "fillmode": "overlay",
              "size": 10,
              "solidity": 0.2
             }
            },
            "type": "bar"
           }
          ],
          "barpolar": [
           {
            "marker": {
             "line": {
              "color": "#E5ECF6",
              "width": 0.5
             },
             "pattern": {
              "fillmode": "overlay",
              "size": 10,
              "solidity": 0.2
             }
            },
            "type": "barpolar"
           }
          ],
          "carpet": [
           {
            "aaxis": {
             "endlinecolor": "#2a3f5f",
             "gridcolor": "white",
             "linecolor": "white",
             "minorgridcolor": "white",
             "startlinecolor": "#2a3f5f"
            },
            "baxis": {
             "endlinecolor": "#2a3f5f",
             "gridcolor": "white",
             "linecolor": "white",
             "minorgridcolor": "white",
             "startlinecolor": "#2a3f5f"
            },
            "type": "carpet"
           }
          ],
          "choropleth": [
           {
            "colorbar": {
             "outlinewidth": 0,
             "ticks": ""
            },
            "type": "choropleth"
           }
          ],
          "contour": [
           {
            "colorbar": {
             "outlinewidth": 0,
             "ticks": ""
            },
            "colorscale": [
             [
              0,
              "#0d0887"
             ],
             [
              0.1111111111111111,
              "#46039f"
             ],
             [
              0.2222222222222222,
              "#7201a8"
             ],
             [
              0.3333333333333333,
              "#9c179e"
             ],
             [
              0.4444444444444444,
              "#bd3786"
             ],
             [
              0.5555555555555556,
              "#d8576b"
             ],
             [
              0.6666666666666666,
              "#ed7953"
             ],
             [
              0.7777777777777778,
              "#fb9f3a"
             ],
             [
              0.8888888888888888,
              "#fdca26"
             ],
             [
              1,
              "#f0f921"
             ]
            ],
            "type": "contour"
           }
          ],
          "contourcarpet": [
           {
            "colorbar": {
             "outlinewidth": 0,
             "ticks": ""
            },
            "type": "contourcarpet"
           }
          ],
          "heatmap": [
           {
            "colorbar": {
             "outlinewidth": 0,
             "ticks": ""
            },
            "colorscale": [
             [
              0,
              "#0d0887"
             ],
             [
              0.1111111111111111,
              "#46039f"
             ],
             [
              0.2222222222222222,
              "#7201a8"
             ],
             [
              0.3333333333333333,
              "#9c179e"
             ],
             [
              0.4444444444444444,
              "#bd3786"
             ],
             [
              0.5555555555555556,
              "#d8576b"
             ],
             [
              0.6666666666666666,
              "#ed7953"
             ],
             [
              0.7777777777777778,
              "#fb9f3a"
             ],
             [
              0.8888888888888888,
              "#fdca26"
             ],
             [
              1,
              "#f0f921"
             ]
            ],
            "type": "heatmap"
           }
          ],
          "histogram": [
           {
            "marker": {
             "pattern": {
              "fillmode": "overlay",
              "size": 10,
              "solidity": 0.2
             }
            },
            "type": "histogram"
           }
          ],
          "histogram2d": [
           {
            "colorbar": {
             "outlinewidth": 0,
             "ticks": ""
            },
            "colorscale": [
             [
              0,
              "#0d0887"
             ],
             [
              0.1111111111111111,
              "#46039f"
             ],
             [
              0.2222222222222222,
              "#7201a8"
             ],
             [
              0.3333333333333333,
              "#9c179e"
             ],
             [
              0.4444444444444444,
              "#bd3786"
             ],
             [
              0.5555555555555556,
              "#d8576b"
             ],
             [
              0.6666666666666666,
              "#ed7953"
             ],
             [
              0.7777777777777778,
              "#fb9f3a"
             ],
             [
              0.8888888888888888,
              "#fdca26"
             ],
             [
              1,
              "#f0f921"
             ]
            ],
            "type": "histogram2d"
           }
          ],
          "histogram2dcontour": [
           {
            "colorbar": {
             "outlinewidth": 0,
             "ticks": ""
            },
            "colorscale": [
             [
              0,
              "#0d0887"
             ],
             [
              0.1111111111111111,
              "#46039f"
             ],
             [
              0.2222222222222222,
              "#7201a8"
             ],
             [
              0.3333333333333333,
              "#9c179e"
             ],
             [
              0.4444444444444444,
              "#bd3786"
             ],
             [
              0.5555555555555556,
              "#d8576b"
             ],
             [
              0.6666666666666666,
              "#ed7953"
             ],
             [
              0.7777777777777778,
              "#fb9f3a"
             ],
             [
              0.8888888888888888,
              "#fdca26"
             ],
             [
              1,
              "#f0f921"
             ]
            ],
            "type": "histogram2dcontour"
           }
          ],
          "mesh3d": [
           {
            "colorbar": {
             "outlinewidth": 0,
             "ticks": ""
            },
            "type": "mesh3d"
           }
          ],
          "parcoords": [
           {
            "line": {
             "colorbar": {
              "outlinewidth": 0,
              "ticks": ""
             }
            },
            "type": "parcoords"
           }
          ],
          "pie": [
           {
            "automargin": true,
            "type": "pie"
           }
          ],
          "scatter": [
           {
            "fillpattern": {
             "fillmode": "overlay",
             "size": 10,
             "solidity": 0.2
            },
            "type": "scatter"
           }
          ],
          "scatter3d": [
           {
            "line": {
             "colorbar": {
              "outlinewidth": 0,
              "ticks": ""
             }
            },
            "marker": {
             "colorbar": {
              "outlinewidth": 0,
              "ticks": ""
             }
            },
            "type": "scatter3d"
           }
          ],
          "scattercarpet": [
           {
            "marker": {
             "colorbar": {
              "outlinewidth": 0,
              "ticks": ""
             }
            },
            "type": "scattercarpet"
           }
          ],
          "scattergeo": [
           {
            "marker": {
             "colorbar": {
              "outlinewidth": 0,
              "ticks": ""
             }
            },
            "type": "scattergeo"
           }
          ],
          "scattergl": [
           {
            "marker": {
             "colorbar": {
              "outlinewidth": 0,
              "ticks": ""
             }
            },
            "type": "scattergl"
           }
          ],
          "scattermap": [
           {
            "marker": {
             "colorbar": {
              "outlinewidth": 0,
              "ticks": ""
             }
            },
            "type": "scattermap"
           }
          ],
          "scattermapbox": [
           {
            "marker": {
             "colorbar": {
              "outlinewidth": 0,
              "ticks": ""
             }
            },
            "type": "scattermapbox"
           }
          ],
          "scatterpolar": [
           {
            "marker": {
             "colorbar": {
              "outlinewidth": 0,
              "ticks": ""
             }
            },
            "type": "scatterpolar"
           }
          ],
          "scatterpolargl": [
           {
            "marker": {
             "colorbar": {
              "outlinewidth": 0,
              "ticks": ""
             }
            },
            "type": "scatterpolargl"
           }
          ],
          "scatterternary": [
           {
            "marker": {
             "colorbar": {
              "outlinewidth": 0,
              "ticks": ""
             }
            },
            "type": "scatterternary"
           }
          ],
          "surface": [
           {
            "colorbar": {
             "outlinewidth": 0,
             "ticks": ""
            },
            "colorscale": [
             [
              0,
              "#0d0887"
             ],
             [
              0.1111111111111111,
              "#46039f"
             ],
             [
              0.2222222222222222,
              "#7201a8"
             ],
             [
              0.3333333333333333,
              "#9c179e"
             ],
             [
              0.4444444444444444,
              "#bd3786"
             ],
             [
              0.5555555555555556,
              "#d8576b"
             ],
             [
              0.6666666666666666,
              "#ed7953"
             ],
             [
              0.7777777777777778,
              "#fb9f3a"
             ],
             [
              0.8888888888888888,
              "#fdca26"
             ],
             [
              1,
              "#f0f921"
             ]
            ],
            "type": "surface"
           }
          ],
          "table": [
           {
            "cells": {
             "fill": {
              "color": "#EBF0F8"
             },
             "line": {
              "color": "white"
             }
            },
            "header": {
             "fill": {
              "color": "#C8D4E3"
             },
             "line": {
              "color": "white"
             }
            },
            "type": "table"
           }
          ]
         },
         "layout": {
          "annotationdefaults": {
           "arrowcolor": "#2a3f5f",
           "arrowhead": 0,
           "arrowwidth": 1
          },
          "autotypenumbers": "strict",
          "coloraxis": {
           "colorbar": {
            "outlinewidth": 0,
            "ticks": ""
           }
          },
          "colorscale": {
           "diverging": [
            [
             0,
             "#8e0152"
            ],
            [
             0.1,
             "#c51b7d"
            ],
            [
             0.2,
             "#de77ae"
            ],
            [
             0.3,
             "#f1b6da"
            ],
            [
             0.4,
             "#fde0ef"
            ],
            [
             0.5,
             "#f7f7f7"
            ],
            [
             0.6,
             "#e6f5d0"
            ],
            [
             0.7,
             "#b8e186"
            ],
            [
             0.8,
             "#7fbc41"
            ],
            [
             0.9,
             "#4d9221"
            ],
            [
             1,
             "#276419"
            ]
           ],
           "sequential": [
            [
             0,
             "#0d0887"
            ],
            [
             0.1111111111111111,
             "#46039f"
            ],
            [
             0.2222222222222222,
             "#7201a8"
            ],
            [
             0.3333333333333333,
             "#9c179e"
            ],
            [
             0.4444444444444444,
             "#bd3786"
            ],
            [
             0.5555555555555556,
             "#d8576b"
            ],
            [
             0.6666666666666666,
             "#ed7953"
            ],
            [
             0.7777777777777778,
             "#fb9f3a"
            ],
            [
             0.8888888888888888,
             "#fdca26"
            ],
            [
             1,
             "#f0f921"
            ]
           ],
           "sequentialminus": [
            [
             0,
             "#0d0887"
            ],
            [
             0.1111111111111111,
             "#46039f"
            ],
            [
             0.2222222222222222,
             "#7201a8"
            ],
            [
             0.3333333333333333,
             "#9c179e"
            ],
            [
             0.4444444444444444,
             "#bd3786"
            ],
            [
             0.5555555555555556,
             "#d8576b"
            ],
            [
             0.6666666666666666,
             "#ed7953"
            ],
            [
             0.7777777777777778,
             "#fb9f3a"
            ],
            [
             0.8888888888888888,
             "#fdca26"
            ],
            [
             1,
             "#f0f921"
            ]
           ]
          },
          "colorway": [
           "#636efa",
           "#EF553B",
           "#00cc96",
           "#ab63fa",
           "#FFA15A",
           "#19d3f3",
           "#FF6692",
           "#B6E880",
           "#FF97FF",
           "#FECB52"
          ],
          "font": {
           "color": "#2a3f5f"
          },
          "geo": {
           "bgcolor": "white",
           "lakecolor": "white",
           "landcolor": "#E5ECF6",
           "showlakes": true,
           "showland": true,
           "subunitcolor": "white"
          },
          "hoverlabel": {
           "align": "left"
          },
          "hovermode": "closest",
          "mapbox": {
           "style": "light"
          },
          "paper_bgcolor": "white",
          "plot_bgcolor": "#E5ECF6",
          "polar": {
           "angularaxis": {
            "gridcolor": "white",
            "linecolor": "white",
            "ticks": ""
           },
           "bgcolor": "#E5ECF6",
           "radialaxis": {
            "gridcolor": "white",
            "linecolor": "white",
            "ticks": ""
           }
          },
          "scene": {
           "xaxis": {
            "backgroundcolor": "#E5ECF6",
            "gridcolor": "white",
            "gridwidth": 2,
            "linecolor": "white",
            "showbackground": true,
            "ticks": "",
            "zerolinecolor": "white"
           },
           "yaxis": {
            "backgroundcolor": "#E5ECF6",
            "gridcolor": "white",
            "gridwidth": 2,
            "linecolor": "white",
            "showbackground": true,
            "ticks": "",
            "zerolinecolor": "white"
           },
           "zaxis": {
            "backgroundcolor": "#E5ECF6",
            "gridcolor": "white",
            "gridwidth": 2,
            "linecolor": "white",
            "showbackground": true,
            "ticks": "",
            "zerolinecolor": "white"
           }
          },
          "shapedefaults": {
           "line": {
            "color": "#2a3f5f"
           }
          },
          "ternary": {
           "aaxis": {
            "gridcolor": "white",
            "linecolor": "white",
            "ticks": ""
           },
           "baxis": {
            "gridcolor": "white",
            "linecolor": "white",
            "ticks": ""
           },
           "bgcolor": "#E5ECF6",
           "caxis": {
            "gridcolor": "white",
            "linecolor": "white",
            "ticks": ""
           }
          },
          "title": {
           "x": 0.05
          },
          "xaxis": {
           "automargin": true,
           "gridcolor": "white",
           "linecolor": "white",
           "ticks": "",
           "title": {
            "standoff": 15
           },
           "zerolinecolor": "white",
           "zerolinewidth": 2
          },
          "yaxis": {
           "automargin": true,
           "gridcolor": "white",
           "linecolor": "white",
           "ticks": "",
           "title": {
            "standoff": 15
           },
           "zerolinecolor": "white",
           "zerolinewidth": 2
          }
         }
        }
       }
      }
     },
     "metadata": {},
     "output_type": "display_data"
    }
   ],
   "source": [
    "fig = px.scatter_3d(df, x='X1_Square', y='X2_Square', z='X1*X2',\n",
    "              color='Y')\n",
    "fig.show()"
   ]
  },
  {
   "cell_type": "code",
   "execution_count": 31,
   "metadata": {},
   "outputs": [
    {
     "data": {
      "text/plain": [
       "1.0"
      ]
     },
     "execution_count": 31,
     "metadata": {},
     "output_type": "execute_result"
    }
   ],
   "source": [
    "from sklearn.svm import SVC\n",
    "from sklearn.metrics import accuracy_score\n",
    "classifier = SVC(kernel=\"linear\")\n",
    "classifier.fit(X_train, y_train)\n",
    "y_pred = classifier.predict(X_test)\n",
    "accuracy_score(y_test, y_pred)"
   ]
  },
  {
   "cell_type": "code",
   "execution_count": 32,
   "metadata": {},
   "outputs": [
    {
     "data": {
      "text/plain": [
       "1.0"
      ]
     },
     "execution_count": 32,
     "metadata": {},
     "output_type": "execute_result"
    }
   ],
   "source": [
    "from sklearn.svm import SVC\n",
    "from sklearn.metrics import accuracy_score\n",
    "classifier = SVC(kernel=\"poly\")\n",
    "classifier.fit(X_train, y_train)\n",
    "y_pred = classifier.predict(X_test)\n",
    "accuracy_score(y_test, y_pred)"
   ]
  },
  {
   "cell_type": "code",
   "execution_count": 33,
   "metadata": {},
   "outputs": [
    {
     "data": {
      "text/plain": [
       "1.0"
      ]
     },
     "execution_count": 33,
     "metadata": {},
     "output_type": "execute_result"
    }
   ],
   "source": [
    "from sklearn.svm import SVC\n",
    "from sklearn.metrics import accuracy_score\n",
    "classifier = SVC(kernel=\"rbf\")\n",
    "classifier.fit(X_train, y_train)\n",
    "y_pred = classifier.predict(X_test)\n",
    "accuracy_score(y_test, y_pred)"
   ]
  },
  {
   "cell_type": "code",
   "execution_count": 34,
   "metadata": {},
   "outputs": [
    {
     "data": {
      "text/plain": [
       "1.0"
      ]
     },
     "execution_count": 34,
     "metadata": {},
     "output_type": "execute_result"
    }
   ],
   "source": [
    "from sklearn.svm import SVC\n",
    "from sklearn.metrics import accuracy_score\n",
    "classifier = SVC(kernel=\"sigmoid\")\n",
    "classifier.fit(X_train, y_train)\n",
    "y_pred = classifier.predict(X_test)\n",
    "accuracy_score(y_test, y_pred)"
   ]
  }
 ],
 "metadata": {
  "kernelspec": {
   "display_name": "venv",
   "language": "python",
   "name": "python3"
  },
  "language_info": {
   "codemirror_mode": {
    "name": "ipython",
    "version": 3
   },
   "file_extension": ".py",
   "mimetype": "text/x-python",
   "name": "python",
   "nbconvert_exporter": "python",
   "pygments_lexer": "ipython3",
   "version": "3.10.0"
  }
 },
 "nbformat": 4,
 "nbformat_minor": 4
}
