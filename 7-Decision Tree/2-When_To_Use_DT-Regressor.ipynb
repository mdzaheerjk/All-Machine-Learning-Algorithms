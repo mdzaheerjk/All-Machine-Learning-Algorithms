{
 "cells": [
  {
   "cell_type": "markdown",
   "id": "984e249a",
   "metadata": {},
   "source": [
    "\n",
    "A **decision tree regressor** is almost the same as a classifier, but instead of predicting a *category* (like “yes/no”), it predicts a *number* (like “price = \\$250”).\n",
    "\n",
    "**Use Decision Tree Regressor When** \n",
    "\n",
    "1. **You want to predict numbers, not labels.**\n",
    "\n",
    "   * Example: Predicting the price of a house, the temperature tomorrow, or someone’s exam score.\n",
    "\n",
    "2. **You want simple rules that explain the prediction.**\n",
    "\n",
    "   * For example:\n",
    "\n",
    "     * If house size > 2000 sq ft → predicted price = \\$500,000\n",
    "     * Else if size ≤ 2000 and neighborhood = “suburbs” → predicted price = \\$300,000\n",
    "     * Otherwise → \\$200,000\n",
    "\n",
    "3. **You want an easy-to-interpret model.**\n",
    "\n",
    "   * You can read the tree like a flowchart and see exactly how the number was decided.\n",
    "\n",
    "4. **Your data has both categories and numbers.**\n",
    "\n",
    "   * Example: “city” (category) + “square footage” (number)\n",
    "\n",
    "5. **You don’t need extreme accuracy but want fast, clear predictions.**\n",
    "\n",
    "   * Just like with classifiers, they’re not always the *best* model, but they’re quick and transparent.\n",
    "\n",
    "👉 In short: **use a decision tree regressor when you want to predict a number, using simple “if-then” rules that are easy to follow.**"
   ]
  }
 ],
 "metadata": {
  "language_info": {
   "name": "python"
  }
 },
 "nbformat": 4,
 "nbformat_minor": 5
}
