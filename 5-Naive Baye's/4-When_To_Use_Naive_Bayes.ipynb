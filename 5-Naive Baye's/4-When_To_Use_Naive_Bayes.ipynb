{
 "cells": [
  {
   "cell_type": "markdown",
   "id": "1b592129",
   "metadata": {},
   "source": [
    "# When to use Naive Bayes\n",
    "\n",
    "1. **When you want to classify things**\n",
    "\n",
    "   * Example: Decide if an email is spam or not.\n",
    "   * Example: Decide if a review is positive or negative.\n",
    "\n",
    "2. **When your data has clear clues (features)**\n",
    "\n",
    "   * Example: Words in a message.\n",
    "   * Example: Measurements of something (like height, weight).\n",
    "\n",
    "3. **When speed matters**\n",
    "\n",
    "   * Naive Bayes is very fast compared to many other methods.\n",
    "\n",
    "4. **When you don’t need perfect accuracy but a good simple model**\n",
    "\n",
    "   * It often works surprisingly well even with its “naive” assumption.\n",
    "\n",
    "---\n",
    "\n",
    "### Good fits for Naive Bayes\n",
    "\n",
    "* **Text problems** (spam filtering, sentiment analysis, topic classification).\n",
    "* **Simple number problems** (predicting categories based on a few measurements).\n",
    "* **Situations where data is large and you need results quickly.**\n",
    "\n",
    "---\n",
    "\n",
    "👉 In short:\n",
    "Use **Naive Bayes** when you need a **fast, simple, and reasonably good** way to sort things into categories, especially with text or when features are simple clues."
   ]
  }
 ],
 "metadata": {
  "language_info": {
   "name": "python"
  }
 },
 "nbformat": 4,
 "nbformat_minor": 5
}
