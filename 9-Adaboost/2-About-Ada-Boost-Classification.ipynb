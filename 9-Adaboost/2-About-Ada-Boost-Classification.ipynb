{
 "cells": [
  {
   "cell_type": "markdown",
   "id": "e8bc0d39",
   "metadata": {},
   "source": [
    "# AdaBoost Classification with two Weak Learners"
   ]
  },
  {
   "cell_type": "markdown",
   "id": "691d98e4",
   "metadata": {
    "vscode": {
     "languageId": "plaintext"
    }
   },
   "source": [
    "### 🎯 Example: Classifying Spam with 2 Weak Learners\n",
    "\n",
    "We want to decide if an email is **Spam (1)** or **Not Spam (0).**\n",
    "\n",
    "We have 4 emails:\n",
    "\n",
    "```\n",
    "Email   True Label\n",
    "A       0\n",
    "B       0\n",
    "C       1\n",
    "D       1\n",
    "```\n",
    "\n",
    "---\n",
    "\n",
    "#### Step 1: Start with Equal Weights\n",
    "\n",
    "Each email is equally important.\n",
    "So weight = 1/4 for A, B, C, D.\n",
    "\n",
    "---\n",
    "\n",
    "#### Step 2: Train Weak Learner 1\n",
    "\n",
    "Suppose Weak Learner 1 predicts:\n",
    "\n",
    "```\n",
    "A: 0   (correct)\n",
    "B: 1   (wrong)\n",
    "C: 1   (correct)\n",
    "D: 0   (wrong)\n",
    "```\n",
    "\n",
    "It got B and D wrong.\n",
    "👉 AdaBoost increases the weights of **B and D** (so the next learner pays more attention to them).\n",
    "\n",
    "---\n",
    "\n",
    "#### Step 3: Train Weak Learner 2\n",
    "\n",
    "Now, because B and D are \"heavier,\" Weak Learner 2 focuses on them.\n",
    "\n",
    "Predictions of Weak Learner 2:\n",
    "\n",
    "```\n",
    "A: 0   (correct)\n",
    "B: 0   (correct this time ✅)\n",
    "C: 1   (correct)\n",
    "D: 1   (correct this time ✅)\n",
    "```\n",
    "\n",
    "This one does much better.\n",
    "\n",
    "---\n",
    "\n",
    "#### Step 4: Combine the Two Learners\n",
    "\n",
    "* Weak Learner 1 wasn’t great → gets **lower weight** in voting.\n",
    "* Weak Learner 2 was better → gets **higher weight** in voting.\n",
    "\n",
    "Final decision for each email is made by **weighted majority vote**.\n",
    "\n",
    "👉 Result: All 4 emails are classified correctly 🎉.\n",
    "\n",
    "---\n",
    "\n",
    "### 🔑 Key Takeaway\n",
    "\n",
    "* Learner 1 made mistakes.\n",
    "* AdaBoost adjusted importance (B and D got more weight).\n",
    "* Learner 2 fixed those mistakes.\n",
    "* Final combination = strong classifier, even though each learner was weak."
   ]
  }
 ],
 "metadata": {
  "kernelspec": {
   "display_name": "venv",
   "language": "python",
   "name": "python3"
  },
  "language_info": {
   "name": "python",
   "version": "3.10.0"
  }
 },
 "nbformat": 4,
 "nbformat_minor": 5
}
