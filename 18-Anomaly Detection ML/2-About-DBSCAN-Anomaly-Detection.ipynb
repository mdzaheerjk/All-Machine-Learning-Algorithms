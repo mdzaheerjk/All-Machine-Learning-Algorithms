{
 "cells": [
  {
   "cell_type": "markdown",
   "id": "b20354c1",
   "metadata": {},
   "source": [
    "## **DBSCAN for anomaly detection**:\n",
    "\n",
    "* **DBSCAN** is a clustering algorithm that groups points based on **density** — areas with many close points form clusters.\n",
    "* It has two key parameters:\n",
    "\n",
    "  1. **eps** – the maximum distance between points to be considered neighbors.\n",
    "  2. **min\\_samples** – the minimum number of points required to form a dense region (cluster).\n",
    "* **Anomalies (or outliers)** are the points that **do not belong to any cluster**. DBSCAN labels these points as **noise**.\n",
    "* So, for anomaly detection:\n",
    "\n",
    "  * Points in clusters → normal points.\n",
    "  * Points labeled as noise (-1) → anomalies.\n",
    "\n",
    "**Intuition:** If a point is far from all dense regions, it is unusual — which is exactly what we want when detecting anomalies."
   ]
  }
 ],
 "metadata": {
  "language_info": {
   "name": "python"
  }
 },
 "nbformat": 4,
 "nbformat_minor": 5
}
